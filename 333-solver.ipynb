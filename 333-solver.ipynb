{
 "cells": [
  {
   "source": [
    "# 3x3 Rubiks' Cube Solver"
   ],
   "cell_type": "markdown",
   "metadata": {}
  },
  {
   "source": [
    "Imports:"
   ],
   "cell_type": "markdown",
   "metadata": {}
  },
  {
   "cell_type": "code",
   "execution_count": 437,
   "metadata": {},
   "outputs": [],
   "source": [
    "from rubiks_cube import rubiks_cube as rc\n",
    "import numpy as np\n",
    "from copy import deepcopy as copy\n",
    "from hashlib import sha1"
   ]
  },
  {
   "source": [
    "We first make a solved cube:"
   ],
   "cell_type": "markdown",
   "metadata": {}
  },
  {
   "cell_type": "code",
   "execution_count": 438,
   "metadata": {},
   "outputs": [
    {
     "output_type": "stream",
     "name": "stdout",
     "text": [
      "rubiks_cube: \n\n      b b b\n      b b b\n      b b b\n      -----\no o o|w w w|r r r|y y y\no o o|w w w|r r r|y y y\no o o|w w w|r r r|y y y\n      -----\n      g g g\n      g g g\n      g g g\n\n"
     ]
    }
   ],
   "source": [
    "cube = rc.Cube()\n",
    "cube.print()"
   ]
  },
  {
   "cell_type": "code",
   "execution_count": 439,
   "metadata": {},
   "outputs": [],
   "source": [
    "cube2 = copy(cube)"
   ]
  },
  {
   "cell_type": "code",
   "execution_count": 440,
   "metadata": {},
   "outputs": [],
   "source": [
    "cube2.turn_face('R')"
   ]
  },
  {
   "cell_type": "code",
   "execution_count": 441,
   "metadata": {},
   "outputs": [
    {
     "output_type": "stream",
     "name": "stdout",
     "text": [
      "rubiks_cube: \n\n      b b w\n      b b w\n      b b w\n      -----\no o o|w w g|r r r|b y y\no o o|w w g|r r r|b y y\no o o|w w g|r r r|b y y\n      -----\n      g g y\n      g g y\n      g g y\n\nrubiks_cube: \n\n      b b b\n      b b b\n      b b b\n      -----\no o o|w w w|r r r|y y y\no o o|w w w|r r r|y y y\no o o|w w w|r r r|y y y\n      -----\n      g g g\n      g g g\n      g g g\n\n"
     ]
    }
   ],
   "source": [
    "cube2.print()\n",
    "cube.print()"
   ]
  },
  {
   "source": [
    "We can get a one-hot representation of the cube like this:"
   ],
   "cell_type": "markdown",
   "metadata": {}
  },
  {
   "cell_type": "code",
   "execution_count": 442,
   "metadata": {},
   "outputs": [
    {
     "output_type": "execute_result",
     "data": {
      "text/plain": [
       "array([[[1, 0, 0, 0, 0, 0],\n",
       "        [0, 0, 0, 1, 0, 0],\n",
       "        [1, 0, 0, 0, 0, 0],\n",
       "        [1, 0, 0, 0, 0, 0],\n",
       "        [1, 0, 0, 0, 0, 0],\n",
       "        [0, 0, 0, 1, 0, 0],\n",
       "        [0, 0, 0, 1, 0, 0],\n",
       "        [1, 0, 0, 0, 0, 0]],\n",
       "\n",
       "       [[0, 1, 0, 0, 0, 0],\n",
       "        [0, 0, 0, 0, 1, 0],\n",
       "        [0, 1, 0, 0, 0, 0],\n",
       "        [0, 1, 0, 0, 0, 0],\n",
       "        [0, 1, 0, 0, 0, 0],\n",
       "        [0, 0, 0, 0, 1, 0],\n",
       "        [0, 0, 0, 0, 1, 0],\n",
       "        [0, 1, 0, 0, 0, 0]],\n",
       "\n",
       "       [[0, 0, 1, 0, 0, 0],\n",
       "        [0, 0, 1, 0, 0, 0],\n",
       "        [0, 0, 1, 0, 0, 0],\n",
       "        [0, 0, 1, 0, 0, 0],\n",
       "        [0, 0, 1, 0, 0, 0],\n",
       "        [0, 0, 1, 0, 0, 0],\n",
       "        [0, 0, 1, 0, 0, 0],\n",
       "        [0, 0, 1, 0, 0, 0]],\n",
       "\n",
       "       [[0, 0, 0, 1, 0, 0],\n",
       "        [0, 0, 0, 1, 0, 0],\n",
       "        [0, 0, 0, 1, 0, 0],\n",
       "        [1, 0, 0, 0, 0, 0],\n",
       "        [1, 0, 0, 0, 0, 0],\n",
       "        [0, 0, 0, 1, 0, 0],\n",
       "        [0, 0, 0, 1, 0, 0],\n",
       "        [1, 0, 0, 0, 0, 0]],\n",
       "\n",
       "       [[0, 0, 0, 0, 1, 0],\n",
       "        [0, 1, 0, 0, 0, 0],\n",
       "        [0, 0, 0, 0, 1, 0],\n",
       "        [0, 0, 0, 0, 1, 0],\n",
       "        [0, 0, 0, 0, 1, 0],\n",
       "        [0, 1, 0, 0, 0, 0],\n",
       "        [0, 1, 0, 0, 0, 0],\n",
       "        [0, 0, 0, 0, 1, 0]],\n",
       "\n",
       "       [[0, 0, 0, 0, 0, 1],\n",
       "        [0, 0, 0, 0, 0, 1],\n",
       "        [0, 0, 0, 0, 0, 1],\n",
       "        [0, 0, 0, 0, 0, 1],\n",
       "        [0, 0, 0, 0, 0, 1],\n",
       "        [0, 0, 0, 0, 0, 1],\n",
       "        [0, 0, 0, 0, 0, 1],\n",
       "        [0, 0, 0, 0, 0, 1]]])"
      ]
     },
     "metadata": {},
     "execution_count": 442
    }
   ],
   "source": [
    "cube2.turn_face('R')\n",
    "cube2.get_binary_array(one_hot=True).reshape(6, 8, 6)"
   ]
  },
  {
   "source": [
    "## Detecting a G1 state"
   ],
   "cell_type": "markdown",
   "metadata": {}
  },
  {
   "cell_type": "code",
   "execution_count": 443,
   "metadata": {},
   "outputs": [],
   "source": [
    "def top_bottom_CO_Edge(bin_arr, relative_to=0):\n",
    "    '''Whether the cube has all corners oriented and top/bottom edges oriented, relative to the top and bottom faces indexed as relative_to and relative_to + 3'''\n",
    "    i = relative_to\n",
    "    for face in (bin_arr[i*8:i*8+8], bin_arr[(i+3)*8:(i+3)*8+8]):\n",
    "        for piece in face:\n",
    "            if not piece[i] and not piece[i+3]:\n",
    "                return False\n",
    "\n",
    "    return True"
   ]
  },
  {
   "cell_type": "code",
   "execution_count": 444,
   "metadata": {},
   "outputs": [],
   "source": [
    "def mid_EO(bin_arr, relative_to=0):\n",
    "    '''Whether the M slice edges are oriented, relative to the top and bottom faces indexed as relative_to and relative_to + 3'''\n",
    "    if relative_to == 0:\n",
    "        ind_to_check = ((1, 4), (1, 2), (4, 2), (4, 4))\n",
    "        valid_faces = (1, 4)\n",
    "    elif relative_to == 1:\n",
    "        ind_to_check = ((0, 4), (0, 2), (3, 4), (3, 2))\n",
    "        valid_faces = (0, 3)\n",
    "    else:\n",
    "        ind_to_check = ((4, 3), (4, 1), (1, 3), (1, 1))\n",
    "        valid_faces = (1, 4)\n",
    "    \n",
    "    for (i, j) in ind_to_check:\n",
    "        piece = bin_arr[i*8+j]\n",
    "        if not piece[valid_faces[0]] and not piece[valid_faces[1]]:\n",
    "            return False\n",
    "        \n",
    "    return True"
   ]
  },
  {
   "cell_type": "code",
   "execution_count": 445,
   "metadata": {},
   "outputs": [],
   "source": [
    "def is_in_G1(cube, relative_to=0):\n",
    "    bin_arr = cube.get_binary_array(one_hot=True).reshape(-1, 6)\n",
    "    return top_bottom_CO_Edge(bin_arr, relative_to=relative_to) and mid_EO(bin_arr, relative_to=relative_to)"
   ]
  },
  {
   "cell_type": "code",
   "execution_count": 446,
   "metadata": {},
   "outputs": [],
   "source": [
    "def is_solved(cube):\n",
    "    return cube.is_solved()"
   ]
  },
  {
   "source": [
    "## Brute force a first stage"
   ],
   "cell_type": "markdown",
   "metadata": {}
  },
  {
   "source": [
    "We start with an arbitrary scramble:"
   ],
   "cell_type": "markdown",
   "metadata": {}
  },
  {
   "cell_type": "code",
   "execution_count": 447,
   "metadata": {},
   "outputs": [
    {
     "output_type": "stream",
     "name": "stdout",
     "text": [
      "rubiks_cube: \n\n      g b w\n      g b w\n      y b w\n      -----\ny y b|r w g|r r r|b y o\no o o|y w g|r r r|b y w\no o o|y o o|w w g|r r w\n      -----\n      b g g\n      b g g\n      b y y\n\n"
     ]
    }
   ],
   "source": [
    "scramble = copy(cube)\n",
    "scramble.scramble(\"R F L2\")\n",
    "# scramble.scramble(\"D B U' R' U R2 L' D F U2 F D2 R2 F2 R2 F2 B' D2 L2 U2 L'\")\n",
    "scramble.print()"
   ]
  },
  {
   "cell_type": "code",
   "execution_count": 448,
   "metadata": {},
   "outputs": [
    {
     "output_type": "execute_result",
     "data": {
      "text/plain": [
       "False"
      ]
     },
     "metadata": {},
     "execution_count": 448
    }
   ],
   "source": [
    "is_in_G1(scramble)"
   ]
  },
  {
   "cell_type": "code",
   "execution_count": 449,
   "metadata": {},
   "outputs": [],
   "source": [
    "\n",
    "face_move_map = {'U': 0, 'F': 1, 'R': 2, 'D': 3, 'B': 4, 'L': 5}\n",
    "\n",
    "valid_moves = [('U', 0), ('U', 1), ('U', 2), \n",
    "    ('F', 0), ('F', 1), ('F', 2), \n",
    "    ('R', 0), ('R', 1), ('R', 2), \n",
    "    ('D', 0), ('D', 1), ('D', 2), \n",
    "    ('B', 0), ('B', 1), ('B', 2),\n",
    "    ('L', 0), ('L', 1), ('L', 2)]\n",
    "\n",
    "def next_valid_moves(prev_moves):\n",
    "    if len(prev_moves) == 0:\n",
    "        return valid_moves\n",
    "\n",
    "    (last_face, _) = prev_moves[-1]\n",
    "    last_ind = face_move_map[last_face]\n",
    "\n",
    "    if len(prev_moves) > 1:\n",
    "        (last2_face, _) = prev_moves[-2]\n",
    "        last2_ind = face_move_map[last2_face]\n",
    "\n",
    "        # WLOG, if you spin R then L, you don't want to do either again\n",
    "        if abs(last2_ind - last_ind) == 3:\n",
    "            ind = last_ind % 3\n",
    "            return valid_moves[0:ind*3] + valid_moves[ind*3+3:(ind+3)*3] + valid_moves[(ind+3)*3+3:]\n",
    "\n",
    "    return valid_moves[0:last_ind*3] + valid_moves[last_ind*3+3:]\n",
    "\n",
    "all_180_moves = [('U', 2), \n",
    "    ('F', 2),\n",
    "    ('R', 2), \n",
    "    ('D', 2), \n",
    "    ('B', 2), \n",
    "    ('L', 2)]\n",
    "\n",
    "other_ways = [('U', 0), ('U', 1), \n",
    "    ('F', 0), ('F', 1), \n",
    "    ('R', 0), ('R', 1), \n",
    "    ('D', 0), ('D', 1), \n",
    "    ('B', 0), ('B', 1),\n",
    "    ('L', 0), ('L', 1)]\n",
    "\n",
    "def valid_g1_moves(relative_to=0):\n",
    "    valid_g1s = all_180_moves + other_ways[relative_to*2:relative_to*2+2] + other_ways[(relative_to+3)*2:(relative_to+3)*2+2]\n",
    "    return valid_g1s"
   ]
  },
  {
   "cell_type": "code",
   "execution_count": 450,
   "metadata": {},
   "outputs": [],
   "source": [
    "def turn_face(cube, move):\n",
    "    next_cube = copy(cube)\n",
    "    (face, way) = move\n",
    "    next_cube.turn_face(face, way)\n",
    "    return next_cube"
   ]
  },
  {
   "cell_type": "code",
   "execution_count": 451,
   "metadata": {},
   "outputs": [],
   "source": [
    "def solve_to_G1(scr_cube):\n",
    "    cubes_queue = [(scr_cube, [])]\n",
    "\n",
    "    num_moves = 0\n",
    "    i = 0\n",
    "\n",
    "    while(True):\n",
    "        (cube, prev_moves) = cubes_queue.pop(0)\n",
    "\n",
    "        for rel in (0, 1, 2):\n",
    "            if is_in_G1(cube, rel):\n",
    "                print(\"Num moves: \" + str(len(prev_moves)) + \"\\t Iter: \" + str(i))\n",
    "                return prev_moves\n",
    "        \n",
    "        if num_moves < len(prev_moves):\n",
    "            num_moves = len(prev_moves)\n",
    "            print(\"Now doing \" + str(num_moves) + \" moves, \" + str(i) + \" iters\")\n",
    "        \n",
    "        for move in next_valid_moves(prev_moves):\n",
    "            next_cube = turn_face(cube, move)\n",
    "            cubes_queue.append((next_cube, prev_moves + [move]))\n",
    "\n",
    "        i = i+1"
   ]
  },
  {
   "cell_type": "code",
   "execution_count": 452,
   "metadata": {},
   "outputs": [
    {
     "output_type": "stream",
     "name": "stdout",
     "text": [
      "Now doing 1 moves, 1 iters\n",
      "Now doing 2 moves, 19 iters\n",
      "Now doing 3 moves, 289 iters\n",
      "Num moves: 3\t Iter: 4024\n",
      "[('L', 2), ('F', 1), ('R', 0)]\n"
     ]
    }
   ],
   "source": [
    "g1_sol = solve_to_G1(scramble)\n",
    "print(g1_sol)"
   ]
  },
  {
   "source": [
    "This is _super_ slow :/"
   ],
   "cell_type": "markdown",
   "metadata": {}
  },
  {
   "source": [
    "## Pruning tables: pt 2"
   ],
   "cell_type": "markdown",
   "metadata": {}
  },
  {
   "source": [
    "We now explore solving a cube in a G1 state, using a pruning table that stores how close we are to a solution."
   ],
   "cell_type": "markdown",
   "metadata": {}
  },
  {
   "cell_type": "code",
   "execution_count": 453,
   "metadata": {},
   "outputs": [],
   "source": [
    "def hash_cube(cube):\n",
    "    return hash(str(cube.get_binary_array()))"
   ]
  },
  {
   "cell_type": "code",
   "execution_count": 464,
   "metadata": {
    "tags": []
   },
   "outputs": [],
   "source": [
    "def calc_g1_movecount():\n",
    "    G1_moves = valid_g1_moves(0)\n",
    "    g1_sols = dict()\n",
    "    q = [(copy(rc.Cube()), [])]\n",
    "    max_moves = 5\n",
    "\n",
    "    while(len(q) > 0):\n",
    "        (cube, prev_moves) = q.pop(0)\n",
    "\n",
    "        cube_hash = hash_cube(cube)\n",
    "\n",
    "        if cube_hash not in g1_sols:\n",
    "            g1_sols[cube_hash] = len(prev_moves)\n",
    "            \n",
    "            for move in G1_moves:\n",
    "                next_cube = turn_face(cube, move)\n",
    "                q.append((next_cube, prev_moves + [move]))\n",
    "    \n",
    "        if len(prev_moves) > max_moves:\n",
    "            return g1_sols\n",
    "    return g1_sols\n",
    "\n",
    "g1_sols = calc_g1_movecount()"
   ]
  },
  {
   "cell_type": "code",
   "execution_count": 465,
   "metadata": {},
   "outputs": [
    {
     "output_type": "execute_result",
     "data": {
      "text/plain": [
       "3614"
      ]
     },
     "metadata": {},
     "execution_count": 465
    }
   ],
   "source": [
    "len(g1_sols)"
   ]
  },
  {
   "cell_type": "code",
   "execution_count": 456,
   "metadata": {},
   "outputs": [],
   "source": [
    "def recover_sol(cube, g1_sols):\n",
    "    G1_moves = valid_g1_moves(0)\n",
    "    best_candidate = []\n",
    "    shortest_len = 9001\n",
    "\n",
    "    if cube.is_solved():\n",
    "        return []\n",
    "    \n",
    "    cube.print()\n",
    "\n",
    "    for move in G1_moves:\n",
    "        cube_to_try = turn_face(cube, move)\n",
    "        hash_val = hash_cube(cube_to_try)\n",
    "        if hash_val in g1_sols:\n",
    "            print(move)\n",
    "            print(g1_sols[hash_val])\n",
    "            # candidate = recover_sol(cube_to_try, g1_sols)\n",
    "            # if(len(candidate) < shortest_len):\n",
    "            #     best_candidate = [move] + candidate\n",
    "\n",
    "    return best_candidate"
   ]
  },
  {
   "cell_type": "code",
   "execution_count": 459,
   "metadata": {},
   "outputs": [
    {
     "output_type": "stream",
     "name": "stdout",
     "text": [
      "True\n1\nrubiks_cube: \n\n      b b b\n      b b b\n      b b b\n      -----\no o o|w w w|r r r|y y y\no o o|w w w|r r r|y y y\nr r r|y y y|o o o|w w w\n      -----\n      g g g\n      g g g\n      g g g\n\n('F', 2)\n0\n"
     ]
    },
    {
     "output_type": "execute_result",
     "data": {
      "text/plain": [
       "[]"
      ]
     },
     "metadata": {},
     "execution_count": 459
    }
   ],
   "source": [
    "cube5 = copy(cube)\n",
    "cube5.scramble(\"F2\")\n",
    "print(hash_cube(cube5) in g1_sols)\n",
    "print(g1_sols[hash_cube(cube5)])\n",
    "recover_sol(cube5, g1_sols)"
   ]
  },
  {
   "cell_type": "code",
   "execution_count": null,
   "metadata": {},
   "outputs": [],
   "source": []
  }
 ],
 "metadata": {
  "colab": {
   "collapsed_sections": [],
   "name": "inverted pendulum.ipynb",
   "provenance": []
  },
  "kernelspec": {
   "name": "python391jvsc74a57bd07cfc35c2170bee0b6acce19e29677178b76260cd158d523330d79af8028fefa2",
   "display_name": "Python 3.9.1 64-bit ('final-U3adIOhd': pipenv)"
  },
  "language_info": {
   "codemirror_mode": {
    "name": "ipython",
    "version": 3
   },
   "file_extension": ".py",
   "mimetype": "text/x-python",
   "name": "python",
   "nbconvert_exporter": "python",
   "pygments_lexer": "ipython3",
   "version": "3.9.1"
  }
 },
 "nbformat": 4,
 "nbformat_minor": 1
}