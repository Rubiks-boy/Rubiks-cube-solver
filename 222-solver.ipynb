{
 "cells": [
  {
   "source": [
    "# Brute force solver for a 2x2 Rubik's cube\n"
   ],
   "cell_type": "markdown",
   "metadata": {}
  },
  {
   "source": [
    "## Naive 2x2 Brute Force Solver"
   ],
   "cell_type": "markdown",
   "metadata": {}
  },
  {
   "source": [
    "We use MeepMoops's Py222 implementation:"
   ],
   "cell_type": "markdown",
   "metadata": {}
  },
  {
   "cell_type": "code",
   "execution_count": 87,
   "metadata": {},
   "outputs": [],
   "source": [
    "from py222 import py222"
   ]
  },
  {
   "source": [
    "We begin by getting a solved puzzle"
   ],
   "cell_type": "markdown",
   "metadata": {}
  },
  {
   "cell_type": "code",
   "execution_count": 88,
   "metadata": {},
   "outputs": [
    {
     "output_type": "stream",
     "name": "stdout",
     "text": [
      "True\n      ┌──┬──┐\n      │ 0│ 0│\n      ├──┼──┤\n      │ 0│ 0│\n┌──┬──┼──┼──┼──┬──┬──┬──┐\n│ 4│ 4│ 2│ 2│ 1│ 1│ 5│ 5│\n├──┼──┼──┼──┼──┼──┼──┼──┤\n│ 4│ 4│ 2│ 2│ 1│ 1│ 5│ 5│\n└──┴──┼──┼──┼──┴──┴──┴──┘\n      │ 3│ 3│\n      ├──┼──┤\n      │ 3│ 3│\n      └──┴──┘\n"
     ]
    }
   ],
   "source": [
    "s = py222.initState()\n",
    "print(py222.isSolved(s))\n",
    "py222.printCube(s)"
   ]
  },
  {
   "source": [
    "Next, we can apply a sequence of moves to scramble the puzzle:"
   ],
   "cell_type": "markdown",
   "metadata": {}
  },
  {
   "cell_type": "code",
   "execution_count": 103,
   "metadata": {},
   "outputs": [
    {
     "output_type": "stream",
     "name": "stdout",
     "text": [
      "False\n      ┌──┬──┐\n      │ 2│ 2│\n      ├──┼──┤\n      │ 2│ 2│\n┌──┬──┼──┼──┼──┬──┬──┬──┐\n│ 0│ 3│ 1│ 4│ 3│ 0│ 4│ 1│\n├──┼──┼──┼──┼──┼──┼──┼──┤\n│ 3│ 3│ 1│ 1│ 0│ 0│ 4│ 4│\n└──┴──┼──┼──┼──┴──┴──┴──┘\n      │ 5│ 5│\n      ├──┼──┤\n      │ 5│ 5│\n      └──┴──┘\n"
     ]
    }
   ],
   "source": [
    "# scramble = py222.doAlgStr(s, \"x y R U' R'\")\n",
    "# scramble = py222.doAlgStr(s, \"x y R U' R' U' F2 U' R\")\n",
    "# scramble = py222.doAlgStr(s, \"x y R U' R' U' F2 U' R U\")\n",
    "scramble = py222.doAlgStr(s, \"x y R U' R' U' F2 U' R U R' U F2\")\n",
    "print(py222.isSolved(scramble))\n",
    "py222.printCube(scramble)"
   ]
  },
  {
   "source": [
    "Next, we brute force a solution.\n",
    "Note that we can reduce the degrees of freedom to only nine types of moves: \n",
    "* Rotations do not affect state, and can be ignored.\n",
    "* WLOG, moving the left side is equivalent to moving the right side. Thus, instead of 6 turns ((R)ight, (L)eft, (U)p, (D)own, (F)ront, (B)ack), we can use 3 types of turns ((R)ight, (F)ront, and (U)p).\n",
    "* For each of the three types of turns, we can rotate clockwise ninety degrees, rotate counterclockwise (indicated by a prime (')), or rotate 180 degrees (indicated by a '2')\n",
    "\n",
    "Note that God's number for a 2x2 Rubik's cube is 11; i.e., any 2x2 puzzle can be solved within 11 moves. This means, using a naive approach, we can bound our run time as follows:\n",
    "* Our first move has nine possible options\n",
    "* Subsequent moves have six possible options (WLOG, if we turned the right face on the _n-1_-th move, we won't want to turn right again in any form on the _n_-th move).\n",
    "\n",
    "Thus, an upper bound for the number of iterations is O(9*6^10) or 544 million iterations for our naive approach."
   ],
   "cell_type": "markdown",
   "metadata": {}
  },
  {
   "source": [
    "We can represent the possible moves:"
   ],
   "cell_type": "markdown",
   "metadata": {}
  },
  {
   "cell_type": "code",
   "execution_count": 90,
   "metadata": {},
   "outputs": [],
   "source": [
    "valid_moves = [\"R\", \"R'\", \"R2\", \"U\", \"U'\", \"U2\", \"F\", \"F'\", \"F2\"]"
   ]
  },
  {
   "cell_type": "code",
   "execution_count": 91,
   "metadata": {},
   "outputs": [],
   "source": [
    "def solve_222(cube):\n",
    "    cubes_queue = [(cube, [])]\n",
    "\n",
    "    num_moves = 0\n",
    "    i = 0\n",
    "\n",
    "    while(True):\n",
    "        # grab the next cube on the queue\n",
    "        (cube, prev_moves) = cubes_queue.pop(0)\n",
    "\n",
    "        if py222.isSolved(cube):\n",
    "            print(\"Num moves: \" + str(len(prev_moves)) + \"\\t Iter: \" + str(i))\n",
    "            return [valid_moves[move] for move in prev_moves]\n",
    "\n",
    "        if len(prev_moves) > num_moves:\n",
    "            print(\"Num moves: \" + str(len(prev_moves)) + \"\\t Iter: \" + str(i))\n",
    "            num_moves = len(prev_moves)\n",
    "\n",
    "        prev_move = prev_moves[-1] if len(prev_moves) > 0 else 9\n",
    "\n",
    "        # Enforce not repeating the same side again\n",
    "        next_moves = list(range(9))[0:(prev_move//3 * 3)] + list(range(9))[(prev_move//3 * 3 + 3):]\n",
    "\n",
    "        # Perform each possible move, and add each of those cubes to the queue\n",
    "        for move in next_moves:\n",
    "            next_cube = py222.doAlgStr(cube, valid_moves[move])\n",
    "            cubes_queue.append((next_cube, prev_moves + [move]))\n",
    "\n",
    "        i = i+1"
   ]
  },
  {
   "source": [
    "This appears very slow, so we can try a different method of hashing the cubes we've already tried.\n",
    "\n",
    "(Unfortunately, this approach is even slower!... likely due to the str(cube) operations.)"
   ],
   "cell_type": "markdown",
   "metadata": {}
  },
  {
   "cell_type": "code",
   "execution_count": 92,
   "metadata": {},
   "outputs": [],
   "source": [
    "def solve_222_bad(cube):\n",
    "    cubes_already_tried = set([str(cube)])\n",
    "    cubes_queue = [(cube, [])]\n",
    "\n",
    "    num_moves = 0\n",
    "\n",
    "    while(True):\n",
    "        # grab the next cube on the queue\n",
    "        (cube, prev_moves) = cubes_queue.pop(0)\n",
    "\n",
    "        if py222.isSolved(cube):\n",
    "            return prev_moves\n",
    "\n",
    "        if len(prev_moves) > num_moves:\n",
    "            print(\"Num moves: \" + str(len(prev_moves)))\n",
    "            num_moves = len(prev_moves)\n",
    "\n",
    "        # Perform each possible move, and add each of those cubes to the queue\n",
    "        for move in valid_moves:\n",
    "            next_cube = py222.doAlgStr(cube, move)\n",
    "            if str(next_cube) not in cubes_already_tried:\n",
    "                cubes_queue.append((next_cube, prev_moves + [move]))"
   ]
  },
  {
   "cell_type": "code",
   "execution_count": 93,
   "metadata": {},
   "outputs": [
    {
     "output_type": "stream",
     "name": "stdout",
     "text": [
      "Num moves: 1\t Iter: 1\n",
      "Num moves: 2\t Iter: 10\n",
      "Num moves: 3\t Iter: 64\n",
      "Num moves: 4\t Iter: 388\n",
      "Num moves: 5\t Iter: 2332\n",
      "Num moves: 6\t Iter: 13996\n",
      "Num moves: 7\t Iter: 83980\n",
      "Num moves: 7\t Iter: 137765\n"
     ]
    },
    {
     "output_type": "execute_result",
     "data": {
      "text/plain": [
       "[\"R'\", 'U', 'F2', 'U', 'R', 'U', \"R'\"]"
      ]
     },
     "metadata": {},
     "execution_count": 93
    }
   ],
   "source": [
    "solve_222(scramble)"
   ]
  },
  {
   "source": [
    "We now have a naive way to brute force 2x2 solutions. Note that this scales as O(6^n), where n is the number of moves."
   ],
   "cell_type": "markdown",
   "metadata": {}
  },
  {
   "source": [
    "## Two-Phase Approach"
   ],
   "cell_type": "markdown",
   "metadata": {}
  },
  {
   "source": [
    "Next, we try the 2x2 version of Kociemba's algorithm. This involves solving the cube into a \"G1\" state, where the corners are all oriented. Then, we brute force using a subset of moves: R2, F2, U, U', U2"
   ],
   "cell_type": "markdown",
   "metadata": {}
  },
  {
   "source": [
    "Recognizing corner orientation is a matter of normalizing* the cube, and then seeing that the top and bottom are all either 0's or 3's.\n",
    "\n",
    "Normalizing means that we recolor the stickers such that we could have gotten to the state using a single corner we hold fixed.*"
   ],
   "cell_type": "markdown",
   "metadata": {}
  },
  {
   "cell_type": "code",
   "execution_count": 94,
   "metadata": {},
   "outputs": [],
   "source": [
    "def corners_oriented(normalized_cube):\n",
    "    # This follows the similar idea as the isSolved() method:\n",
    "    # We check the normalized cube has 0's on the top\n",
    "    # and 3's on the bottom\n",
    "    for i in [0, 3]:\n",
    "        for e in normalized_cube[4 * i:4 * i + 4]:\n",
    "            if e not in [0, 3]:\n",
    "                return False\n",
    "    return True\n",
    "\n",
    "    a = [0, 1, 2, 3]\n",
    "    "
   ]
  },
  {
   "cell_type": "code",
   "execution_count": 95,
   "metadata": {},
   "outputs": [
    {
     "output_type": "stream",
     "name": "stdout",
     "text": [
      "      ┌──┬──┐\n      │ 1│ 2│\n      ├──┼──┤\n      │ 0│ 0│\n┌──┬──┼──┼──┼──┬──┬──┬──┐\n│ 3│ 1│ 5│ 2│ 1│ 0│ 4│ 2│\n├──┼──┼──┼──┼──┼──┼──┼──┤\n│ 4│ 4│ 5│ 3│ 1│ 2│ 3│ 5│\n└──┴──┼──┼──┼──┴──┴──┴──┘\n      │ 0│ 5│\n      ├──┼──┤\n      │ 3│ 4│\n      └──┴──┘\n"
     ]
    },
    {
     "output_type": "execute_result",
     "data": {
      "text/plain": [
       "False"
      ]
     },
     "metadata": {},
     "execution_count": 95
    }
   ],
   "source": [
    "scr_norm = py222.normFC(scramble)\n",
    "py222.printCube(scr_norm)\n",
    "corners_oriented(scr_norm)"
   ]
  },
  {
   "cell_type": "code",
   "execution_count": 96,
   "metadata": {},
   "outputs": [
    {
     "output_type": "stream",
     "name": "stdout",
     "text": [
      "      ┌──┬──┐\n      │ 0│ 3│\n      ├──┼──┤\n      │ 0│ 3│\n┌──┬──┼──┼──┼──┬──┬──┬──┐\n│ 5│ 4│ 2│ 2│ 4│ 1│ 2│ 1│\n├──┼──┼──┼──┼──┼──┼──┼──┤\n│ 4│ 1│ 5│ 4│ 5│ 1│ 2│ 5│\n└──┴──┼──┼──┼──┴──┴──┴──┘\n      │ 3│ 0│\n      ├──┼──┤\n      │ 3│ 0│\n      └──┴──┘\nTrue\n"
     ]
    }
   ],
   "source": [
    "test_corners_oriented = py222.normFC(py222.doAlgStr(s, \"x R U' R F2 R' U R\"))\n",
    "py222.printCube(test_corners_oriented)\n",
    "print(corners_oriented(test_corners_oriented))"
   ]
  },
  {
   "source": [
    "Now, we can brute force using 2 steps: we first brute force into a corner oriented state, and then brute force a solution with a more limited move set."
   ],
   "cell_type": "markdown",
   "metadata": {}
  },
  {
   "cell_type": "code",
   "execution_count": 97,
   "metadata": {},
   "outputs": [],
   "source": [
    "G1_valid_moves = [\"R2\", \"F2\", \"U\", \"U'\", \"U2\"]\n",
    "\n",
    "def next_valid_g1_moves(prev_moves):\n",
    "    if len(prev_moves) == 0:\n",
    "        return G1_valid_moves\n",
    "\n",
    "    prev_move = prev_moves[-1]\n",
    "    if \"U\" in prev_move:\n",
    "        return G1_valid_moves[0:2]\n",
    "    elif prev_move == \"R2\":\n",
    "        return [\"F2\"] + G1_valid_moves[2:]\n",
    "    else:\n",
    "        return [\"R2\"] + G1_valid_moves[2:]\n",
    "    \n",
    "def next_valid_moves(prev_moves):\n",
    "    prev_move = prev_moves[-1] if len(prev_moves) > 0 else \"_\"\n",
    "\n",
    "    # Enforce not repeating the same side again\n",
    "    return list(filter(lambda move: prev_move[0] not in move, valid_moves))"
   ]
  },
  {
   "cell_type": "code",
   "execution_count": 98,
   "metadata": {},
   "outputs": [],
   "source": [
    "def solve_to_state(cube, is_in_end_state, next_valid_moves):\n",
    "    cubes_queue = [(cube, [])]\n",
    "\n",
    "    num_moves = 0\n",
    "    i = 0\n",
    "\n",
    "    while(True):\n",
    "        # grab the next cube on the queue\n",
    "        (cube, prev_moves) = cubes_queue.pop(0)\n",
    "\n",
    "        if is_in_end_state(cube):\n",
    "            print(\"Num moves: \" + str(len(prev_moves)) + \"\\t Iter: \" + str(i))\n",
    "            return [move for move in prev_moves]\n",
    "\n",
    "        if len(prev_moves) > num_moves:\n",
    "            print(\"Num moves: \" + str(len(prev_moves)) + \"\\t Iter: \" + str(i))\n",
    "            num_moves = len(prev_moves)\n",
    "\n",
    "        # Perform each possible move, and add each of those cubes to the queue\n",
    "        for move in next_valid_moves(prev_moves):\n",
    "            next_cube = py222.doAlgStr(cube, move)\n",
    "            cubes_queue.append((next_cube, prev_moves + [move]))\n",
    "\n",
    "        i = i+1\n",
    "\n",
    "def solve_222_multiphase(cube):\n",
    "    py222.printCube(cube)\n",
    "    norm_cube = py222.normFC(cube)\n",
    "    moves_to_g1 = solve_to_state(norm_cube, corners_oriented, next_valid_moves)\n",
    "    g1_cube = py222.doAlgStr(norm_cube, \" \".join(moves_to_g1))\n",
    "    py222.printCube(g1_cube)\n",
    "    moves_to_solve = solve_to_state(g1_cube, py222.isSolved, next_valid_g1_moves)\n",
    "    py222.printCube(py222.doAlgStr(norm_cube, \" \".join(moves_to_g1 + moves_to_solve)))\n",
    "    return moves_to_g1 + moves_to_solve"
   ]
  },
  {
   "cell_type": "code",
   "execution_count": 105,
   "metadata": {},
   "outputs": [
    {
     "output_type": "stream",
     "name": "stdout",
     "text": [
      "Num moves: 1\t Iter: 1\n",
      "Num moves: 2\t Iter: 10\n",
      "Num moves: 2\t Iter: 28\n",
      "      ┌──┬──┐\n",
      "      │ 0│ 0│\n",
      "      ├──┼──┤\n",
      "      │ 0│ 3│\n",
      "┌──┬──┼──┼──┼──┬──┬──┬──┐\n",
      "│ 5│ 2│ 1│ 5│ 1│ 4│ 2│ 1│\n",
      "├──┼──┼──┼──┼──┼──┼──┼──┤\n",
      "│ 4│ 4│ 5│ 4│ 2│ 2│ 1│ 5│\n",
      "└──┴──┼──┼──┼──┴──┴──┴──┘\n",
      "      │ 0│ 3│\n",
      "      ├──┼──┤\n",
      "      │ 3│ 3│\n",
      "      └──┴──┘\n",
      "Num moves: 1\t Iter: 1\n",
      "Num moves: 2\t Iter: 6\n",
      "Num moves: 3\t Iter: 20\n",
      "Num moves: 4\t Iter: 64\n",
      "Num moves: 5\t Iter: 192\n",
      "Num moves: 6\t Iter: 584\n",
      "Num moves: 7\t Iter: 1744\n",
      "Num moves: 8\t Iter: 5256\n",
      "Num moves: 9\t Iter: 15728\n",
      "Num moves: 10\t Iter: 47272\n",
      "Num moves: 11\t Iter: 141648\n",
      "Num moves: 11\t Iter: 297985\n",
      "      ┌──┬──┐\n",
      "      │ 0│ 0│\n",
      "      ├──┼──┤\n",
      "      │ 0│ 0│\n",
      "┌──┬──┼──┼──┼──┬──┬──┬──┐\n",
      "│ 4│ 4│ 2│ 2│ 1│ 1│ 5│ 5│\n",
      "├──┼──┼──┼──┼──┼──┼──┼──┤\n",
      "│ 4│ 4│ 2│ 2│ 1│ 1│ 5│ 5│\n",
      "└──┴──┼──┼──┼──┴──┴──┴──┘\n",
      "      │ 3│ 3│\n",
      "      ├──┼──┤\n",
      "      │ 3│ 3│\n",
      "      └──┴──┘\n"
     ]
    },
    {
     "output_type": "execute_result",
     "data": {
      "text/plain": [
       "['U', 'R', 'U', 'R2', \"U'\", 'R2', \"U'\", 'F2', 'U', 'F2', \"U'\", 'F2', 'U']"
      ]
     },
     "metadata": {},
     "execution_count": 105
    }
   ],
   "source": [
    "scramble1 = py222.doAlgStr(s, \"x y R U' R'\")\n",
    "scramble2 = py222.doAlgStr(s, \"x y R U' R' U' F2 U' R\")\n",
    "scramble3 = py222.doAlgStr(s, \"x y R U' R' U' F2 U' R U\")\n",
    "scramble4 = py222.doAlgStr(s, \"x y R U' R' U' F2 U' R U R' U F2\")"
   ]
  },
  {
   "cell_type": "code",
   "execution_count": 106,
   "metadata": {},
   "outputs": [
    {
     "output_type": "stream",
     "name": "stdout",
     "text": [
      "Num moves: 1\t Iter: 1\nNum moves: 2\t Iter: 10\nNum moves: 3\t Iter: 64\n      ┌──┬──┐\n      │ 0│ 3│\n      ├──┼──┤\n      │ 0│ 3│\n┌──┬──┼──┼──┼──┬──┬──┬──┐\n│ 4│ 4│ 2│ 5│ 1│ 1│ 2│ 5│\n├──┼──┼──┼──┼──┼──┼──┼──┤\n│ 4│ 4│ 2│ 5│ 1│ 1│ 2│ 5│\n└──┴──┼──┼──┼──┴──┴──┴──┘\n      │ 3│ 0│\n      ├──┼──┤\n      │ 3│ 0│\n      └──┴──┘\nNum moves: 1\t Iter: 1\n      ┌──┬──┐\n      │ 0│ 0│\n      ├──┼──┤\n      │ 0│ 0│\n┌──┬──┼──┼──┼──┬──┬──┬──┐\n│ 4│ 4│ 2│ 2│ 1│ 1│ 5│ 5│\n├──┼──┼──┼──┼──┼──┼──┼──┤\n│ 4│ 4│ 2│ 2│ 1│ 1│ 5│ 5│\n└──┴──┼──┼──┼──┴──┴──┴──┘\n      │ 3│ 3│\n      ├──┼──┤\n      │ 3│ 3│\n      └──┴──┘\n"
     ]
    },
    {
     "output_type": "execute_result",
     "data": {
      "text/plain": [
       "['R', 'U', 'R', 'R2']"
      ]
     },
     "metadata": {},
     "execution_count": 106
    }
   ],
   "source": [
    "solve_222_multiphase(scramble1)"
   ]
  },
  {
   "cell_type": "code",
   "execution_count": 107,
   "metadata": {},
   "outputs": [
    {
     "output_type": "stream",
     "name": "stdout",
     "text": [
      "Num moves: 1\t Iter: 1\n",
      "Num moves: 2\t Iter: 10\n",
      "Num moves: 2\t Iter: 28\n",
      "      ┌──┬──┐\n",
      "      │ 0│ 0│\n",
      "      ├──┼──┤\n",
      "      │ 0│ 3│\n",
      "┌──┬──┼──┼──┼──┬──┬──┬──┐\n",
      "│ 5│ 2│ 1│ 5│ 1│ 4│ 2│ 1│\n",
      "├──┼──┼──┼──┼──┼──┼──┼──┤\n",
      "│ 4│ 4│ 5│ 4│ 2│ 2│ 1│ 5│\n",
      "└──┴──┼──┼──┼──┴──┴──┴──┘\n",
      "      │ 0│ 3│\n",
      "      ├──┼──┤\n",
      "      │ 3│ 3│\n",
      "      └──┴──┘\n",
      "Num moves: 1\t Iter: 1\n",
      "Num moves: 2\t Iter: 6\n",
      "Num moves: 3\t Iter: 20\n",
      "Num moves: 4\t Iter: 64\n",
      "Num moves: 5\t Iter: 192\n",
      "Num moves: 6\t Iter: 584\n",
      "Num moves: 7\t Iter: 1744\n",
      "Num moves: 8\t Iter: 5256\n",
      "Num moves: 9\t Iter: 15728\n",
      "Num moves: 10\t Iter: 47272\n",
      "Num moves: 11\t Iter: 141648\n",
      "Num moves: 11\t Iter: 297985\n",
      "      ┌──┬──┐\n",
      "      │ 0│ 0│\n",
      "      ├──┼──┤\n",
      "      │ 0│ 0│\n",
      "┌──┬──┼──┼──┼──┬──┬──┬──┐\n",
      "│ 4│ 4│ 2│ 2│ 1│ 1│ 5│ 5│\n",
      "├──┼──┼──┼──┼──┼──┼──┼──┤\n",
      "│ 4│ 4│ 2│ 2│ 1│ 1│ 5│ 5│\n",
      "└──┴──┼──┼──┼──┴──┴──┴──┘\n",
      "      │ 3│ 3│\n",
      "      ├──┼──┤\n",
      "      │ 3│ 3│\n",
      "      └──┴──┘\n"
     ]
    },
    {
     "output_type": "execute_result",
     "data": {
      "text/plain": [
       "['U', 'R', 'U', 'R2', \"U'\", 'R2', \"U'\", 'F2', 'U', 'F2', \"U'\", 'F2', 'U']"
      ]
     },
     "metadata": {},
     "execution_count": 107
    }
   ],
   "source": [
    "solve_222_multiphase(scramble2)"
   ]
  },
  {
   "cell_type": "code",
   "execution_count": 108,
   "metadata": {},
   "outputs": [
    {
     "output_type": "stream",
     "name": "stdout",
     "text": [
      "Num moves: 1\t Iter: 1\n",
      "      ┌──┬──┐\n",
      "      │ 0│ 0│\n",
      "      ├──┼──┤\n",
      "      │ 0│ 3│\n",
      "┌──┬──┼──┼──┼──┬──┬──┬──┐\n",
      "│ 5│ 2│ 1│ 5│ 1│ 4│ 2│ 1│\n",
      "├──┼──┼──┼──┼──┼──┼──┼──┤\n",
      "│ 4│ 4│ 5│ 4│ 2│ 2│ 1│ 5│\n",
      "└──┴──┼──┼──┼──┴──┴──┴──┘\n",
      "      │ 0│ 3│\n",
      "      ├──┼──┤\n",
      "      │ 3│ 3│\n",
      "      └──┴──┘\n",
      "Num moves: 1\t Iter: 1\n",
      "Num moves: 2\t Iter: 6\n",
      "Num moves: 3\t Iter: 20\n",
      "Num moves: 4\t Iter: 64\n",
      "Num moves: 5\t Iter: 192\n",
      "Num moves: 6\t Iter: 584\n",
      "Num moves: 7\t Iter: 1744\n",
      "Num moves: 8\t Iter: 5256\n",
      "Num moves: 9\t Iter: 15728\n",
      "Num moves: 10\t Iter: 47272\n",
      "Num moves: 11\t Iter: 141648\n",
      "Num moves: 11\t Iter: 297985\n",
      "      ┌──┬──┐\n",
      "      │ 0│ 0│\n",
      "      ├──┼──┤\n",
      "      │ 0│ 0│\n",
      "┌──┬──┼──┼──┼──┬──┬──┬──┐\n",
      "│ 4│ 4│ 2│ 2│ 1│ 1│ 5│ 5│\n",
      "├──┼──┼──┼──┼──┼──┼──┼──┤\n",
      "│ 4│ 4│ 2│ 2│ 1│ 1│ 5│ 5│\n",
      "└──┴──┼──┼──┼──┴──┴──┴──┘\n",
      "      │ 3│ 3│\n",
      "      ├──┼──┤\n",
      "      │ 3│ 3│\n",
      "      └──┴──┘\n"
     ]
    },
    {
     "output_type": "execute_result",
     "data": {
      "text/plain": [
       "['R', 'U', 'R2', \"U'\", 'R2', \"U'\", 'F2', 'U', 'F2', \"U'\", 'F2', 'U']"
      ]
     },
     "metadata": {},
     "execution_count": 108
    }
   ],
   "source": [
    "solve_222_multiphase(scramble3)"
   ]
  },
  {
   "cell_type": "code",
   "execution_count": 109,
   "metadata": {},
   "outputs": [
    {
     "output_type": "stream",
     "name": "stdout",
     "text": [
      "Num moves: 0\t Iter: 0\n",
      "      ┌──┬──┐\n",
      "      │ 0│ 0│\n",
      "      ├──┼──┤\n",
      "      │ 0│ 0│\n",
      "┌──┬──┼──┼──┼──┬──┬──┬──┐\n",
      "│ 1│ 4│ 2│ 5│ 4│ 1│ 5│ 2│\n",
      "├──┼──┼──┼──┼──┼──┼──┼──┤\n",
      "│ 4│ 4│ 2│ 2│ 1│ 1│ 5│ 5│\n",
      "└──┴──┼──┼──┼──┴──┴──┴──┘\n",
      "      │ 3│ 3│\n",
      "      ├──┼──┤\n",
      "      │ 3│ 3│\n",
      "      └──┴──┘\n",
      "Num moves: 1\t Iter: 1\n",
      "Num moves: 2\t Iter: 6\n",
      "Num moves: 3\t Iter: 20\n",
      "Num moves: 4\t Iter: 64\n",
      "Num moves: 5\t Iter: 192\n",
      "Num moves: 6\t Iter: 584\n",
      "Num moves: 7\t Iter: 1744\n",
      "Num moves: 8\t Iter: 5256\n",
      "Num moves: 9\t Iter: 15728\n",
      "Num moves: 10\t Iter: 47272\n",
      "Num moves: 11\t Iter: 141648\n",
      "Num moves: 12\t Iter: 425288\n",
      "Num moves: 12\t Iter: 624881\n",
      "      ┌──┬──┐\n",
      "      │ 0│ 0│\n",
      "      ├──┼──┤\n",
      "      │ 0│ 0│\n",
      "┌──┬──┼──┼──┼──┬──┬──┬──┐\n",
      "│ 4│ 4│ 2│ 2│ 1│ 1│ 5│ 5│\n",
      "├──┼──┼──┼──┼──┼──┼──┼──┤\n",
      "│ 4│ 4│ 2│ 2│ 1│ 1│ 5│ 5│\n",
      "└──┴──┼──┼──┼──┴──┴──┴──┘\n",
      "      │ 3│ 3│\n",
      "      ├──┼──┤\n",
      "      │ 3│ 3│\n",
      "      └──┴──┘\n"
     ]
    },
    {
     "output_type": "execute_result",
     "data": {
      "text/plain": [
       "['R2', 'U2', 'F2', 'U', 'R2', 'U2', 'F2', 'U', 'F2', 'U2', 'R2', 'U']"
      ]
     },
     "metadata": {},
     "execution_count": 109
    }
   ],
   "source": [
    "solve_222_multiphase(scramble4)"
   ]
  },
  {
   "cell_type": "code",
   "execution_count": null,
   "metadata": {},
   "outputs": [],
   "source": []
  }
 ],
 "metadata": {
  "colab": {
   "collapsed_sections": [],
   "name": "inverted pendulum.ipynb",
   "provenance": []
  },
  "kernelspec": {
   "name": "python391jvsc74a57bd07cfc35c2170bee0b6acce19e29677178b76260cd158d523330d79af8028fefa2",
   "display_name": "Python 3.9.1 64-bit ('final-U3adIOhd': pipenv)"
  },
  "language_info": {
   "codemirror_mode": {
    "name": "ipython",
    "version": 3
   },
   "file_extension": ".py",
   "mimetype": "text/x-python",
   "name": "python",
   "nbconvert_exporter": "python",
   "pygments_lexer": "ipython3",
   "version": "3.9.1"
  },
  "metadata": {
   "interpreter": {
    "hash": "7cfc35c2170bee0b6acce19e29677178b76260cd158d523330d79af8028fefa2"
   }
  }
 },
 "nbformat": 4,
 "nbformat_minor": 1
}