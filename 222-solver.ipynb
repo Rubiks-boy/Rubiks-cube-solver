{
 "cells": [
  {
   "source": [
    "# Brute force solver for a 2x2 Rubik's cube\n"
   ],
   "cell_type": "markdown",
   "metadata": {}
  },
  {
   "source": [
    "## Naive 2x2 Brute Force Solver"
   ],
   "cell_type": "markdown",
   "metadata": {}
  },
  {
   "source": [
    "We use MeepMoops's Py222 implementation:"
   ],
   "cell_type": "markdown",
   "metadata": {}
  },
  {
   "cell_type": "code",
   "execution_count": 52,
   "metadata": {},
   "outputs": [],
   "source": [
    "from py222 import py222\n",
    "import numpy as np"
   ]
  },
  {
   "source": [
    "We begin by getting a solved puzzle"
   ],
   "cell_type": "markdown",
   "metadata": {}
  },
  {
   "cell_type": "code",
   "execution_count": 53,
   "metadata": {},
   "outputs": [
    {
     "output_type": "stream",
     "name": "stdout",
     "text": [
      "True\n      ┌──┬──┐\n      │ 0│ 0│\n      ├──┼──┤\n      │ 0│ 0│\n┌──┬──┼──┼──┼──┬──┬──┬──┐\n│ 4│ 4│ 2│ 2│ 1│ 1│ 5│ 5│\n├──┼──┼──┼──┼──┼──┼──┼──┤\n│ 4│ 4│ 2│ 2│ 1│ 1│ 5│ 5│\n└──┴──┼──┼──┼──┴──┴──┴──┘\n      │ 3│ 3│\n      ├──┼──┤\n      │ 3│ 3│\n      └──┴──┘\n"
     ]
    }
   ],
   "source": [
    "s = py222.initState()\n",
    "print(py222.isSolved(s))\n",
    "py222.printCube(s)"
   ]
  },
  {
   "source": [
    "Next, we can apply a sequence of moves to scramble the puzzle:"
   ],
   "cell_type": "markdown",
   "metadata": {}
  },
  {
   "cell_type": "code",
   "execution_count": 54,
   "metadata": {},
   "outputs": [
    {
     "output_type": "stream",
     "name": "stdout",
     "text": [
      "False\n      ┌──┬──┐\n      │ 1│ 2│\n      ├──┼──┤\n      │ 2│ 0│\n┌──┬──┼──┼──┼──┬──┬──┬──┐\n│ 2│ 4│ 3│ 1│ 5│ 0│ 4│ 0│\n├──┼──┼──┼──┼──┼──┼──┼──┤\n│ 3│ 3│ 1│ 2│ 1│ 0│ 4│ 4│\n└──┴──┼──┼──┼──┴──┴──┴──┘\n      │ 5│ 3│\n      ├──┼──┤\n      │ 5│ 5│\n      └──┴──┘\n"
     ]
    }
   ],
   "source": [
    "scramble = py222.doAlgStr(s, \"x y R U' R'\")\n",
    "# scramble = py222.doAlgStr(s, \"x y R U' R' U' F2 U' R\")\n",
    "# scramble = py222.doAlgStr(s, \"x y R U' R' U' F2 U' R U\")\n",
    "# scramble = py222.doAlgStr(s, \"x y R U' R' U' F2 U' R U R' U F2\")\n",
    "print(py222.isSolved(scramble))\n",
    "py222.printCube(scramble)"
   ]
  },
  {
   "source": [
    "Next, we brute force a solution.\n",
    "Note that we can reduce the degrees of freedom to only nine types of moves: \n",
    "* Rotations do not affect state, and can be ignored.\n",
    "* WLOG, moving the left side is equivalent to moving the right side. Thus, instead of 6 turns ((R)ight, (L)eft, (U)p, (D)own, (F)ront, (B)ack), we can use 3 types of turns ((R)ight, (F)ront, and (U)p).\n",
    "* For each of the three types of turns, we can rotate clockwise ninety degrees, rotate counterclockwise (indicated by a prime (')), or rotate 180 degrees (indicated by a '2')\n",
    "\n",
    "Note that God's number for a 2x2 Rubik's cube is 11; i.e., any 2x2 puzzle can be solved within 11 moves. This means, using a naive approach, we can bound our run time as follows:\n",
    "* Our first move has nine possible options\n",
    "* Subsequent moves have six possible options (WLOG, if we turned the right face on the _n-1_-th move, we won't want to turn right again in any form on the _n_-th move).\n",
    "\n",
    "Thus, an upper bound for the number of iterations is O(9*6^10) or 544 million iterations for our naive approach."
   ],
   "cell_type": "markdown",
   "metadata": {}
  },
  {
   "source": [
    "We can represent the possible moves:"
   ],
   "cell_type": "markdown",
   "metadata": {}
  },
  {
   "cell_type": "code",
   "execution_count": 55,
   "metadata": {},
   "outputs": [],
   "source": [
    "valid_moves = [\"R\", \"R'\", \"R2\", \"U\", \"U'\", \"U2\", \"F\", \"F'\", \"F2\"]"
   ]
  },
  {
   "cell_type": "code",
   "execution_count": 56,
   "metadata": {},
   "outputs": [],
   "source": [
    "def solve_222(cube):\n",
    "    cubes_queue = [(cube, [])]\n",
    "\n",
    "    num_moves = 0\n",
    "    i = 0\n",
    "\n",
    "    while(True):\n",
    "        # grab the next cube on the queue\n",
    "        (cube, prev_moves) = cubes_queue.pop(0)\n",
    "\n",
    "        if py222.isSolved(cube):\n",
    "            print(\"Num moves: \" + str(len(prev_moves)) + \"\\t Iter: \" + str(i))\n",
    "            return [valid_moves[move] for move in prev_moves]\n",
    "\n",
    "        if len(prev_moves) > num_moves:\n",
    "            print(\"Num moves: \" + str(len(prev_moves)) + \"\\t Iter: \" + str(i))\n",
    "            num_moves = len(prev_moves)\n",
    "\n",
    "        prev_move = prev_moves[-1] if len(prev_moves) > 0 else 9\n",
    "\n",
    "        # Enforce not repeating the same side again\n",
    "        next_moves = list(range(9))[0:(prev_move//3 * 3)] + list(range(9))[(prev_move//3 * 3 + 3):]\n",
    "\n",
    "        # Perform each possible move, and add each of those cubes to the queue\n",
    "        for move in next_moves:\n",
    "            next_cube = py222.doAlgStr(cube, valid_moves[move])\n",
    "            cubes_queue.append((next_cube, prev_moves + [move]))\n",
    "\n",
    "        i = i+1"
   ]
  },
  {
   "source": [
    "This is very slow for any more than a couple of moves, so we can try a different method of hashing the cubes we've already tried.\n",
    "\n",
    "(Unfortunately, this upcoming approach is even slower!... likely due to the str(cube) operations.)"
   ],
   "cell_type": "markdown",
   "metadata": {}
  },
  {
   "cell_type": "code",
   "execution_count": 57,
   "metadata": {},
   "outputs": [],
   "source": [
    "def solve_222_bad(cube):\n",
    "    cubes_already_tried = set([str(cube)])\n",
    "    cubes_queue = [(cube, [])]\n",
    "\n",
    "    num_moves = 0\n",
    "\n",
    "    while(True):\n",
    "        # grab the next cube on the queue\n",
    "        (cube, prev_moves) = cubes_queue.pop(0)\n",
    "\n",
    "        if py222.isSolved(cube):\n",
    "            return prev_moves\n",
    "\n",
    "        if len(prev_moves) > num_moves:\n",
    "            print(\"Num moves: \" + str(len(prev_moves)))\n",
    "            num_moves = len(prev_moves)\n",
    "\n",
    "        # Perform each possible move, and add each of those cubes to the queue\n",
    "        for move in valid_moves:\n",
    "            next_cube = py222.doAlgStr(cube, move)\n",
    "            if str(next_cube) not in cubes_already_tried:\n",
    "                cubes_queue.append((next_cube, prev_moves + [move]))"
   ]
  },
  {
   "cell_type": "code",
   "execution_count": 58,
   "metadata": {},
   "outputs": [
    {
     "output_type": "stream",
     "name": "stdout",
     "text": [
      "Num moves: 1\t Iter: 1\nNum moves: 2\t Iter: 10\nNum moves: 3\t Iter: 64\nNum moves: 3\t Iter: 65\n"
     ]
    },
    {
     "output_type": "execute_result",
     "data": {
      "text/plain": [
       "['R', 'U', \"R'\"]"
      ]
     },
     "metadata": {},
     "execution_count": 58
    }
   ],
   "source": [
    "solve_222(scramble)"
   ]
  },
  {
   "source": [
    "We now have a naive way to brute force 2x2 solutions. Note that this scales as O(6^n), where n is the number of moves."
   ],
   "cell_type": "markdown",
   "metadata": {}
  },
  {
   "source": [
    "## Two-Phase Approach"
   ],
   "cell_type": "markdown",
   "metadata": {}
  },
  {
   "source": [
    "Next, we try the 2x2 version of Kociemba's algorithm. This involves solving the cube into a \"G1\" state, where the corners are all oriented. Then, we brute force using a subset of moves: R2, F2, U, U', U2"
   ],
   "cell_type": "markdown",
   "metadata": {}
  },
  {
   "source": [
    "Recognizing corner orientation is a matter of normalizing* the cube, and then seeing that the top and bottom are all either 0's or 3's.\n",
    "\n",
    "Normalizing means that we recolor the stickers such that we could have gotten to the state using a single corner we hold fixed.*"
   ],
   "cell_type": "markdown",
   "metadata": {}
  },
  {
   "cell_type": "code",
   "execution_count": 59,
   "metadata": {},
   "outputs": [],
   "source": [
    "def corners_oriented(normalized_cube):\n",
    "    # This follows the similar idea as the isSolved() method:\n",
    "    # We check the normalized cube has 0's on the top\n",
    "    # and 3's on the bottom\n",
    "    for i in [0, 3]:\n",
    "        for e in normalized_cube[4 * i:4 * i + 4]:\n",
    "            if e not in [0, 3]:\n",
    "                return False\n",
    "    return True\n",
    "\n",
    "    a = [0, 1, 2, 3]\n",
    "    "
   ]
  },
  {
   "cell_type": "code",
   "execution_count": 60,
   "metadata": {},
   "outputs": [
    {
     "output_type": "stream",
     "name": "stdout",
     "text": [
      "      ┌──┬──┐\n      │ 2│ 0│\n      ├──┼──┤\n      │ 0│ 1│\n┌──┬──┼──┼──┼──┬──┬──┬──┐\n│ 0│ 5│ 4│ 2│ 3│ 1│ 5│ 1│\n├──┼──┼──┼──┼──┼──┼──┼──┤\n│ 4│ 4│ 2│ 0│ 2│ 1│ 5│ 5│\n└──┴──┼──┼──┼──┴──┴──┴──┘\n      │ 3│ 4│\n      ├──┼──┤\n      │ 3│ 3│\n      └──┴──┘\n"
     ]
    },
    {
     "output_type": "execute_result",
     "data": {
      "text/plain": [
       "False"
      ]
     },
     "metadata": {},
     "execution_count": 60
    }
   ],
   "source": [
    "scr_norm = py222.normFC(scramble)\n",
    "py222.printCube(scr_norm)\n",
    "corners_oriented(scr_norm)"
   ]
  },
  {
   "cell_type": "code",
   "execution_count": 61,
   "metadata": {},
   "outputs": [
    {
     "output_type": "stream",
     "name": "stdout",
     "text": [
      "      ┌──┬──┐\n      │ 0│ 3│\n      ├──┼──┤\n      │ 0│ 3│\n┌──┬──┼──┼──┼──┬──┬──┬──┐\n│ 5│ 4│ 2│ 2│ 4│ 1│ 2│ 1│\n├──┼──┼──┼──┼──┼──┼──┼──┤\n│ 4│ 1│ 5│ 4│ 5│ 1│ 2│ 5│\n└──┴──┼──┼──┼──┴──┴──┴──┘\n      │ 3│ 0│\n      ├──┼──┤\n      │ 3│ 0│\n      └──┴──┘\nTrue\n"
     ]
    }
   ],
   "source": [
    "test_corners_oriented = py222.normFC(py222.doAlgStr(s, \"x R U' R F2 R' U R\"))\n",
    "py222.printCube(test_corners_oriented)\n",
    "print(corners_oriented(test_corners_oriented))"
   ]
  },
  {
   "source": [
    "Now, we can brute force using 2 steps: we first brute force into a corner oriented state, and then brute force a solution with a more limited move set."
   ],
   "cell_type": "markdown",
   "metadata": {}
  },
  {
   "cell_type": "code",
   "execution_count": 62,
   "metadata": {},
   "outputs": [],
   "source": [
    "G1_valid_moves = [\"R2\", \"F2\", \"U\", \"U'\", \"U2\"]\n",
    "\n",
    "def next_valid_g1_moves(prev_moves):\n",
    "    if len(prev_moves) == 0:\n",
    "        return G1_valid_moves\n",
    "\n",
    "    prev_move = prev_moves[-1]\n",
    "    if \"U\" in prev_move:\n",
    "        return G1_valid_moves[0:2]\n",
    "    elif prev_move == \"R2\":\n",
    "        return [\"F2\"] + G1_valid_moves[2:]\n",
    "    else:\n",
    "        return [\"R2\"] + G1_valid_moves[2:]\n",
    "    \n",
    "def next_valid_moves(prev_moves):\n",
    "    prev_move = prev_moves[-1] if len(prev_moves) > 0 else \"_\"\n",
    "\n",
    "    # Enforce not repeating the same side again\n",
    "    return list(filter(lambda move: prev_move[0] not in move, valid_moves))"
   ]
  },
  {
   "cell_type": "code",
   "execution_count": 63,
   "metadata": {},
   "outputs": [],
   "source": [
    "def solve_to_state(cube, is_in_end_state, next_valid_moves):\n",
    "    cubes_queue = [(cube, [])]\n",
    "\n",
    "    num_moves = 0\n",
    "    i = 0\n",
    "\n",
    "    while(True):\n",
    "        # grab the next cube on the queue\n",
    "        (cube, prev_moves) = cubes_queue.pop(0)\n",
    "\n",
    "        if is_in_end_state(cube):\n",
    "            # print(\"Num moves: \" + str(len(prev_moves)) + \"\\t Iter: \" + str(i))\n",
    "            return [move for move in prev_moves]\n",
    "\n",
    "        if len(prev_moves) > num_moves:\n",
    "            # print(\"Num moves: \" + str(len(prev_moves)) + \"\\t Iter: \" + str(i))\n",
    "            num_moves = len(prev_moves)\n",
    "\n",
    "        # Perform each possible move, and add each of those cubes to the queue\n",
    "        for move in next_valid_moves(prev_moves):\n",
    "            next_cube = py222.doAlgStr(cube, move)\n",
    "            cubes_queue.append((next_cube, prev_moves + [move]))\n",
    "\n",
    "        i = i+1\n",
    "\n",
    "def solve_222_multiphase(cube):\n",
    "    print(\"Scrambled cube:\")\n",
    "    py222.printCube(cube)\n",
    "    norm_cube = py222.normFC(cube)\n",
    "    moves_to_g1 = solve_to_state(norm_cube, corners_oriented, next_valid_moves)\n",
    "    g1_cube = py222.doAlgStr(norm_cube, \" \".join(moves_to_g1))\n",
    "    print(\"Cube after phase 1:\")\n",
    "    py222.printCube(g1_cube)\n",
    "    moves_to_solve = solve_to_state(g1_cube, py222.isSolved, next_valid_g1_moves)\n",
    "    print(\"Solved cube:\")\n",
    "    py222.printCube(py222.doAlgStr(norm_cube, \" \".join(moves_to_g1 + moves_to_solve)))\n",
    "    return moves_to_g1 + moves_to_solve"
   ]
  },
  {
   "cell_type": "code",
   "execution_count": 64,
   "metadata": {},
   "outputs": [],
   "source": [
    "scramble1 = py222.doAlgStr(s, \"x y R U' R'\")\n",
    "scramble2 = py222.doAlgStr(s, \"x y R U' R' U' F2 U' R\")\n",
    "scramble3 = py222.doAlgStr(s, \"x y R U' R' U' F2 U' R U\")\n",
    "scramble4 = py222.doAlgStr(s, \"x y R U' R' U' F2 U' R U R' U F2\")"
   ]
  },
  {
   "cell_type": "code",
   "execution_count": 65,
   "metadata": {},
   "outputs": [
    {
     "output_type": "stream",
     "name": "stdout",
     "text": [
      "Scrambled cube:\n      ┌──┬──┐\n      │ 1│ 2│\n      ├──┼──┤\n      │ 2│ 0│\n┌──┬──┼──┼──┼──┬──┬──┬──┐\n│ 2│ 4│ 3│ 1│ 5│ 0│ 4│ 0│\n├──┼──┼──┼──┼──┼──┼──┼──┤\n│ 3│ 3│ 1│ 2│ 1│ 0│ 4│ 4│\n└──┴──┼──┼──┼──┴──┴──┴──┘\n      │ 5│ 3│\n      ├──┼──┤\n      │ 5│ 5│\n      └──┴──┘\nCube after phase 1:\n      ┌──┬──┐\n      │ 0│ 3│\n      ├──┼──┤\n      │ 0│ 3│\n┌──┬──┼──┼──┼──┬──┬──┬──┐\n│ 4│ 4│ 2│ 5│ 1│ 1│ 2│ 5│\n├──┼──┼──┼──┼──┼──┼──┼──┤\n│ 4│ 4│ 2│ 5│ 1│ 1│ 2│ 5│\n└──┴──┼──┼──┼──┴──┴──┴──┘\n      │ 3│ 0│\n      ├──┼──┤\n      │ 3│ 0│\n      └──┴──┘\nSolved cube:\n      ┌──┬──┐\n      │ 0│ 0│\n      ├──┼──┤\n      │ 0│ 0│\n┌──┬──┼──┼──┼──┬──┬──┬──┐\n│ 4│ 4│ 2│ 2│ 1│ 1│ 5│ 5│\n├──┼──┼──┼──┼──┼──┼──┼──┤\n│ 4│ 4│ 2│ 2│ 1│ 1│ 5│ 5│\n└──┴──┼──┼──┼──┴──┴──┴──┘\n      │ 3│ 3│\n      ├──┼──┤\n      │ 3│ 3│\n      └──┴──┘\n"
     ]
    },
    {
     "output_type": "execute_result",
     "data": {
      "text/plain": [
       "['R', 'U', 'R', 'R2']"
      ]
     },
     "metadata": {},
     "execution_count": 65
    }
   ],
   "source": [
    "solve_222_multiphase(scramble1)"
   ]
  },
  {
   "cell_type": "code",
   "execution_count": 66,
   "metadata": {},
   "outputs": [
    {
     "output_type": "stream",
     "name": "stdout",
     "text": [
      "Scrambled cube:\n",
      "      ┌──┬──┐\n",
      "      │ 0│ 1│\n",
      "      ├──┼──┤\n",
      "      │ 2│ 2│\n",
      "┌──┬──┼──┼──┼──┬──┬──┬──┐\n",
      "│ 5│ 0│ 4│ 1│ 0│ 2│ 3│ 1│\n",
      "├──┼──┼──┼──┼──┼──┼──┼──┤\n",
      "│ 3│ 3│ 4│ 5│ 0│ 1│ 5│ 4│\n",
      "└──┴──┼──┼──┼──┴──┴──┴──┘\n",
      "      │ 2│ 4│\n",
      "      ├──┼──┤\n",
      "      │ 5│ 3│\n",
      "      └──┴──┘\n",
      "Cube after phase 1:\n",
      "      ┌──┬──┐\n",
      "      │ 0│ 0│\n",
      "      ├──┼──┤\n",
      "      │ 0│ 3│\n",
      "┌──┬──┼──┼──┼──┬──┬──┬──┐\n",
      "│ 5│ 2│ 1│ 5│ 1│ 4│ 2│ 1│\n",
      "├──┼──┼──┼──┼──┼──┼──┼──┤\n",
      "│ 4│ 4│ 5│ 4│ 2│ 2│ 1│ 5│\n",
      "└──┴──┼──┼──┼──┴──┴──┴──┘\n",
      "      │ 0│ 3│\n",
      "      ├──┼──┤\n",
      "      │ 3│ 3│\n",
      "      └──┴──┘\n",
      "Solved cube:\n",
      "      ┌──┬──┐\n",
      "      │ 0│ 0│\n",
      "      ├──┼──┤\n",
      "      │ 0│ 0│\n",
      "┌──┬──┼──┼──┼──┬──┬──┬──┐\n",
      "│ 4│ 4│ 2│ 2│ 1│ 1│ 5│ 5│\n",
      "├──┼──┼──┼──┼──┼──┼──┼──┤\n",
      "│ 4│ 4│ 2│ 2│ 1│ 1│ 5│ 5│\n",
      "└──┴──┼──┼──┼──┴──┴──┴──┘\n",
      "      │ 3│ 3│\n",
      "      ├──┼──┤\n",
      "      │ 3│ 3│\n",
      "      └──┴──┘\n"
     ]
    },
    {
     "output_type": "execute_result",
     "data": {
      "text/plain": [
       "['U', 'R', 'U', 'R2', \"U'\", 'R2', \"U'\", 'F2', 'U', 'F2', \"U'\", 'F2', 'U']"
      ]
     },
     "metadata": {},
     "execution_count": 66
    }
   ],
   "source": [
    "solve_222_multiphase(scramble2)"
   ]
  },
  {
   "cell_type": "code",
   "execution_count": 67,
   "metadata": {},
   "outputs": [
    {
     "output_type": "stream",
     "name": "stdout",
     "text": [
      "Scrambled cube:\n",
      "      ┌──┬──┐\n",
      "      │ 2│ 0│\n",
      "      ├──┼──┤\n",
      "      │ 2│ 1│\n",
      "┌──┬──┼──┼──┼──┬──┬──┬──┐\n",
      "│ 4│ 1│ 0│ 2│ 3│ 1│ 5│ 0│\n",
      "├──┼──┼──┼──┼──┼──┼──┼──┤\n",
      "│ 3│ 3│ 4│ 5│ 0│ 1│ 5│ 4│\n",
      "└──┴──┼──┼──┼──┴──┴──┴──┘\n",
      "      │ 2│ 4│\n",
      "      ├──┼──┤\n",
      "      │ 5│ 3│\n",
      "      └──┴──┘\n",
      "Cube after phase 1:\n",
      "      ┌──┬──┐\n",
      "      │ 0│ 0│\n",
      "      ├──┼──┤\n",
      "      │ 0│ 3│\n",
      "┌──┬──┼──┼──┼──┬──┬──┬──┐\n",
      "│ 5│ 2│ 1│ 5│ 1│ 4│ 2│ 1│\n",
      "├──┼──┼──┼──┼──┼──┼──┼──┤\n",
      "│ 4│ 4│ 5│ 4│ 2│ 2│ 1│ 5│\n",
      "└──┴──┼──┼──┼──┴──┴──┴──┘\n",
      "      │ 0│ 3│\n",
      "      ├──┼──┤\n",
      "      │ 3│ 3│\n",
      "      └──┴──┘\n",
      "Solved cube:\n",
      "      ┌──┬──┐\n",
      "      │ 0│ 0│\n",
      "      ├──┼──┤\n",
      "      │ 0│ 0│\n",
      "┌──┬──┼──┼──┼──┬──┬──┬──┐\n",
      "│ 4│ 4│ 2│ 2│ 1│ 1│ 5│ 5│\n",
      "├──┼──┼──┼──┼──┼──┼──┼──┤\n",
      "│ 4│ 4│ 2│ 2│ 1│ 1│ 5│ 5│\n",
      "└──┴──┼──┼──┼──┴──┴──┴──┘\n",
      "      │ 3│ 3│\n",
      "      ├──┼──┤\n",
      "      │ 3│ 3│\n",
      "      └──┴──┘\n"
     ]
    },
    {
     "output_type": "execute_result",
     "data": {
      "text/plain": [
       "['R', 'U', 'R2', \"U'\", 'R2', \"U'\", 'F2', 'U', 'F2', \"U'\", 'F2', 'U']"
      ]
     },
     "metadata": {},
     "execution_count": 67
    }
   ],
   "source": [
    "solve_222_multiphase(scramble3)"
   ]
  },
  {
   "cell_type": "code",
   "execution_count": 68,
   "metadata": {},
   "outputs": [
    {
     "output_type": "stream",
     "name": "stdout",
     "text": [
      "Scrambled cube:\n",
      "      ┌──┬──┐\n",
      "      │ 2│ 2│\n",
      "      ├──┼──┤\n",
      "      │ 2│ 2│\n",
      "┌──┬──┼──┼──┼──┬──┬──┬──┐\n",
      "│ 0│ 3│ 1│ 4│ 3│ 0│ 4│ 1│\n",
      "├──┼──┼──┼──┼──┼──┼──┼──┤\n",
      "│ 3│ 3│ 1│ 1│ 0│ 0│ 4│ 4│\n",
      "└──┴──┼──┼──┼──┴──┴──┴──┘\n",
      "      │ 5│ 5│\n",
      "      ├──┼──┤\n",
      "      │ 5│ 5│\n",
      "      └──┴──┘\n",
      "Cube after phase 1:\n",
      "      ┌──┬──┐\n",
      "      │ 0│ 0│\n",
      "      ├──┼──┤\n",
      "      │ 0│ 0│\n",
      "┌──┬──┼──┼──┼──┬──┬──┬──┐\n",
      "│ 1│ 4│ 2│ 5│ 4│ 1│ 5│ 2│\n",
      "├──┼──┼──┼──┼──┼──┼──┼──┤\n",
      "│ 4│ 4│ 2│ 2│ 1│ 1│ 5│ 5│\n",
      "└──┴──┼──┼──┼──┴──┴──┴──┘\n",
      "      │ 3│ 3│\n",
      "      ├──┼──┤\n",
      "      │ 3│ 3│\n",
      "      └──┴──┘\n",
      "Solved cube:\n",
      "      ┌──┬──┐\n",
      "      │ 0│ 0│\n",
      "      ├──┼──┤\n",
      "      │ 0│ 0│\n",
      "┌──┬──┼──┼──┼──┬──┬──┬──┐\n",
      "│ 4│ 4│ 2│ 2│ 1│ 1│ 5│ 5│\n",
      "├──┼──┼──┼──┼──┼──┼──┼──┤\n",
      "│ 4│ 4│ 2│ 2│ 1│ 1│ 5│ 5│\n",
      "└──┴──┼──┼──┼──┴──┴──┴──┘\n",
      "      │ 3│ 3│\n",
      "      ├──┼──┤\n",
      "      │ 3│ 3│\n",
      "      └──┴──┘\n"
     ]
    },
    {
     "output_type": "execute_result",
     "data": {
      "text/plain": [
       "['R2', 'U2', 'F2', 'U', 'R2', 'U2', 'F2', 'U', 'F2', 'U2', 'R2', 'U']"
      ]
     },
     "metadata": {},
     "execution_count": 68
    }
   ],
   "source": [
    "solve_222_multiphase(scramble4)"
   ]
  },
  {
   "source": [
    "### Update to try multiple Corner Orientation states"
   ],
   "cell_type": "markdown",
   "metadata": {}
  },
  {
   "cell_type": "code",
   "execution_count": 69,
   "metadata": {},
   "outputs": [],
   "source": [
    "def solve_to_state_many(cube, is_in_end_state, next_valid_moves, max_moves, n=1, debug=False):\n",
    "    cubes_queue = [(cube, [])]\n",
    "    sols_found = []\n",
    "\n",
    "    num_moves = 0\n",
    "    i = 0\n",
    "\n",
    "    while(True):\n",
    "        # grab the next cube on the queue\n",
    "        (cube, prev_moves) = cubes_queue.pop(0)\n",
    "\n",
    "        if is_in_end_state(cube):\n",
    "            sols_found.append([move for move in prev_moves])\n",
    "\n",
    "        if len(prev_moves) > num_moves:\n",
    "            if debug:\n",
    "                print(\"Num moves: \" + str(len(prev_moves)) + \"\\t Iter: \" + str(i))\n",
    "            num_moves = len(prev_moves)\n",
    "\n",
    "            # exit if we've gone too far in the tree\n",
    "            if num_moves > max_moves:\n",
    "                if debug:\n",
    "                    print(\"Reached maximum moves: \" + str(max_moves))\n",
    "                return sols_found\n",
    "            \n",
    "            # exit if we've now surpassed the number of solutions we're trying to find\n",
    "            if len(sols_found) >= n:\n",
    "                if debug:\n",
    "                    print(\"Reached maximum num solutions: \" + str(len(sols_found)))\n",
    "                return sols_found\n",
    "\n",
    "        # Perform each possible move, and add each of those cubes to the queue\n",
    "        for move in next_valid_moves(prev_moves):\n",
    "            next_cube = py222.doAlgStr(cube, move)\n",
    "            cubes_queue.append((next_cube, prev_moves + [move]))\n",
    "\n",
    "        i = i+1\n",
    "\n",
    "def solve_222_multiphase2(cube, debug=False):\n",
    "    print(\"Solving the following cube:\")\n",
    "    py222.printCube(cube)\n",
    "    norm_cube = py222.normFC(cube)\n",
    "    \n",
    "    print(\"Finding CO candidates\")\n",
    "    moves_to_g1 = solve_to_state_many(norm_cube, corners_oriented, next_valid_moves, 6, n=9001, debug=debug)\n",
    "    best_move_count_so_far = 1000\n",
    "    sols_found = []\n",
    "\n",
    "    print(\"Searching through \" + str(len(moves_to_g1)) + \" candidates\")\n",
    "    for i in range(len(moves_to_g1)):\n",
    "        g1_moves = moves_to_g1[i]\n",
    "        g1_cube = py222.doAlgStr(norm_cube, \" \".join(g1_moves))\n",
    "\n",
    "        if debug:\n",
    "            print(g1_moves)\n",
    "\n",
    "        if best_move_count_so_far - len(g1_moves) >= 0:\n",
    "            moves_to_solve = solve_to_state_many(g1_cube, py222.isSolved, next_valid_g1_moves, best_move_count_so_far - len(g1_moves), debug=debug)\n",
    "\n",
    "            j = 0\n",
    "            for fin_moves in moves_to_solve:\n",
    "                j = j+1\n",
    "                if debug:\n",
    "                    print(\"Candidate \" + str(j) + \":\")\n",
    "\n",
    "                if len(g1_moves + fin_moves) < best_move_count_so_far:\n",
    "                    best_move_count_so_far = len(g1_moves + fin_moves)\n",
    "                    sols_found = []\n",
    "                sols_found.append(g1_moves + fin_moves)\n",
    "                \n",
    "                if debug:\n",
    "                    print(g1_moves + fin_moves)\n",
    "    \n",
    "    return sols_found"
   ]
  },
  {
   "cell_type": "code",
   "execution_count": 70,
   "metadata": {
    "tags": []
   },
   "outputs": [
    {
     "output_type": "stream",
     "name": "stdout",
     "text": [
      "Solving the following cube:\n",
      "      ┌──┬──┐\n",
      "      │ 1│ 2│\n",
      "      ├──┼──┤\n",
      "      │ 2│ 0│\n",
      "┌──┬──┼──┼──┼──┬──┬──┬──┐\n",
      "│ 2│ 4│ 3│ 1│ 5│ 0│ 4│ 0│\n",
      "├──┼──┼──┼──┼──┼──┼──┼──┤\n",
      "│ 3│ 3│ 1│ 2│ 1│ 0│ 4│ 4│\n",
      "└──┴──┼──┼──┼──┴──┴──┴──┘\n",
      "      │ 5│ 3│\n",
      "      ├──┼──┤\n",
      "      │ 5│ 5│\n",
      "      └──┴──┘\n",
      "Finding CO candidates\n",
      "Searching through 246 candidates\n"
     ]
    },
    {
     "output_type": "execute_result",
     "data": {
      "text/plain": [
       "[['R', 'U', \"R'\"]]"
      ]
     },
     "metadata": {},
     "execution_count": 70
    }
   ],
   "source": [
    "solve_222_multiphase2(scramble1)"
   ]
  },
  {
   "cell_type": "code",
   "execution_count": 71,
   "metadata": {
    "tags": []
   },
   "outputs": [
    {
     "output_type": "stream",
     "name": "stdout",
     "text": [
      "Solving the following cube:\n",
      "      ┌──┬──┐\n",
      "      │ 2│ 3│\n",
      "      ├──┼──┤\n",
      "      │ 1│ 0│\n",
      "┌──┬──┼──┼──┼──┬──┬──┬──┐\n",
      "│ 1│ 3│ 5│ 4│ 2│ 2│ 4│ 3│\n",
      "├──┼──┼──┼──┼──┼──┼──┼──┤\n",
      "│ 4│ 2│ 0│ 0│ 4│ 1│ 0│ 5│\n",
      "└──┴──┼──┼──┼──┴──┴──┴──┘\n",
      "      │ 1│ 5│\n",
      "      ├──┼──┤\n",
      "      │ 3│ 5│\n",
      "      └──┴──┘\n",
      "Finding CO candidates\n",
      "Searching through 88 candidates\n"
     ]
    },
    {
     "output_type": "execute_result",
     "data": {
      "text/plain": [
       "[[\"U'\", 'F', 'R', 'F2', 'R', \"U'\", 'R2', \"U'\", 'F2', 'R2', \"U'\"],\n",
       " [\"U'\", 'F', 'R', 'F2', 'R', \"U'\", 'F2', 'R2', 'U', 'F2', \"U'\"],\n",
       " [\"U'\", \"R'\", 'U', 'F', \"U'\", 'F', 'U2', 'F2', 'U', 'R2', 'U2'],\n",
       " [\"U'\", \"R'\", 'U', 'F', \"U'\", \"F'\", 'U2', 'F2', \"U'\", 'R2', 'U2'],\n",
       " [\"U'\", 'F', 'R', 'F2', 'R', \"U'\", 'R2', \"U'\", 'F2', 'R2', \"U'\"],\n",
       " [\"U'\", 'F', 'R', 'F2', 'R', \"U'\", 'F2', 'R2', 'U', 'F2', \"U'\"],\n",
       " ['F', 'U', \"F'\", 'U2', \"R'\", \"F'\", \"U'\", 'F2', \"U'\", 'R2', 'U2']]"
      ]
     },
     "metadata": {},
     "execution_count": 71
    }
   ],
   "source": [
    "solve_222_multiphase2(py222.doAlgStr(py222.initState(), \"R U2 R2 F2 R' F2 R F R\"), debug=False)"
   ]
  },
  {
   "source": [
    "We see that trying multiple corner orientation candidates does have a longer runtime, but does output better solutions."
   ],
   "cell_type": "markdown",
   "metadata": {}
  },
  {
   "source": [
    "## Pruning tables"
   ],
   "cell_type": "markdown",
   "metadata": {}
  },
  {
   "source": [
    "We now explore pruning tables, which attempt to store the number of moves required to solve from a given set of states. This lets us recover a solution in linear time, since the movecounts act as breadcrumbs that let us recover solutions for all states stored in the table.\n",
    "\n",
    "We generate the number of moves every single \"G1\" state takes:"
   ],
   "cell_type": "markdown",
   "metadata": {}
  },
  {
   "cell_type": "code",
   "execution_count": 72,
   "metadata": {},
   "outputs": [],
   "source": [
    "powers_of_2 = [1, 2, 4, 8]\n",
    "powers_of_6 = [6**i for i in range(4)]\n",
    "\n",
    "\n",
    "def hash_g1(cube):\n",
    "    up_hash = np.dot(cube[0:4], powers_of_2)\n",
    "    down_hash = np.dot(cube[4 * 3:4 * 3 + 4], powers_of_2)\n",
    "\n",
    "    front_hash = np.dot(cube[4 * 2:4 * 2 + 4], powers_of_6)\n",
    "    back_hash = np.dot(cube[4 * 5:4 * 5 + 4], powers_of_6)\n",
    "    fb_hash = front_hash * (6**4) + back_hash\n",
    "\n",
    "    return fb_hash * (2**8) + up_hash * (2**4) + down_hash\n",
    "            "
   ]
  },
  {
   "cell_type": "code",
   "execution_count": 73,
   "metadata": {},
   "outputs": [],
   "source": [
    "def calc_g1_movecount():\n",
    "    g1_movecount = dict()\n",
    "    q = [(py222.initState(), [])]\n",
    "\n",
    "    while(len(q) > 0):\n",
    "        (cube, prev_moves) = q.pop(0)\n",
    "\n",
    "        cube_hash = hash_g1(cube)\n",
    "\n",
    "        if cube_hash not in g1_movecount:\n",
    "            g1_movecount[cube_hash] = len(prev_moves)\n",
    "            \n",
    "            for move in G1_valid_moves:\n",
    "                next_cube = py222.doAlgStr(cube, move)\n",
    "                q.append((next_cube, prev_moves + [move]))\n",
    "    \n",
    "    return g1_movecount\n",
    "\n",
    "g1_movecount = calc_g1_movecount()"
   ]
  },
  {
   "cell_type": "code",
   "execution_count": 74,
   "metadata": {},
   "outputs": [
    {
     "output_type": "execute_result",
     "data": {
      "text/plain": [
       "5040"
      ]
     },
     "metadata": {},
     "execution_count": 74
    }
   ],
   "source": [
    "len(g1_movecount)"
   ]
  },
  {
   "source": [
    "Since there are so few G1 states (only 7!), we could just store all the solutions directly, as opposed to breadcrumbs:"
   ],
   "cell_type": "markdown",
   "metadata": {}
  },
  {
   "cell_type": "code",
   "execution_count": 75,
   "metadata": {},
   "outputs": [],
   "source": [
    "def calc_g1_sols():\n",
    "    g1_sols = dict()\n",
    "    q = [(py222.initState(), [])]\n",
    "\n",
    "    while(len(q) > 0):\n",
    "        (cube, prev_moves) = q.pop(0)\n",
    "\n",
    "        cube_hash = hash_g1(cube)\n",
    "\n",
    "        if cube_hash not in g1_sols:\n",
    "            g1_sols[cube_hash] = prev_moves\n",
    "            \n",
    "            for move in G1_valid_moves:\n",
    "                next_cube = py222.doAlgStr(cube, move)\n",
    "                q.append((next_cube, prev_moves + [move]))\n",
    "    \n",
    "    return g1_sols\n",
    "\n",
    "g1_sols = calc_g1_sols()\n",
    "\n",
    "def lookup_g1_sol(cube):\n",
    "    tree_sol = g1_sols[hash_g1(cube)]\n",
    "    return (len(tree_sol), tree_sol[::-1])"
   ]
  },
  {
   "cell_type": "code",
   "execution_count": 76,
   "metadata": {},
   "outputs": [
    {
     "output_type": "execute_result",
     "data": {
      "text/plain": [
       "(4, ['U', 'F2', 'U', 'R2'])"
      ]
     },
     "metadata": {},
     "execution_count": 76
    }
   ],
   "source": [
    "test_cube = py222.doAlgStr(py222.initState(), \"R2 U F2 U2 R R' U'\")\n",
    "lookup_g1_sol(test_cube)"
   ]
  },
  {
   "source": [
    "We now have a new multiphase algorithm that uses this pruning table:"
   ],
   "cell_type": "markdown",
   "metadata": {}
  },
  {
   "cell_type": "code",
   "execution_count": 77,
   "metadata": {},
   "outputs": [],
   "source": [
    "def solve_222_multiphase3(cube, debug=False):\n",
    "    print(\"Solving the following cube:\")\n",
    "    py222.printCube(cube)\n",
    "    norm_cube = py222.normFC(cube)\n",
    "    \n",
    "    print(\"Finding CO candidates\")\n",
    "    moves_to_g1 = solve_to_state_many(norm_cube, corners_oriented, next_valid_moves, 5, n=9001, debug=debug)\n",
    "    best_move_count_so_far = 1000\n",
    "    sol_found = None\n",
    "\n",
    "    print(\"Searching through \" + str(len(moves_to_g1)) + \" candidates\")\n",
    "    for i in range(len(moves_to_g1)):\n",
    "        g1_moves = moves_to_g1[i]\n",
    "        g1_cube = py222.doAlgStr(norm_cube, \" \".join(g1_moves))\n",
    "\n",
    "        if debug:\n",
    "            print(g1_moves)\n",
    "\n",
    "        if best_move_count_so_far - len(g1_moves) >= 0:\n",
    "            (fin_move_count, fin_moves) = lookup_g1_sol(g1_cube)\n",
    "\n",
    "            if len(g1_moves) + fin_move_count < best_move_count_so_far:\n",
    "                best_move_count_so_far = len(g1_moves) + fin_move_count\n",
    "                sol_found = g1_moves + fin_moves\n",
    "            \n",
    "            if debug:\n",
    "                print(g1_moves + fin_moves)\n",
    "    \n",
    "    return sol_found"
   ]
  },
  {
   "source": [
    "Finally, we get a 2x2x2 that, while far from optimal, generates solutions very quickly:"
   ],
   "cell_type": "markdown",
   "metadata": {}
  },
  {
   "cell_type": "code",
   "execution_count": 78,
   "metadata": {},
   "outputs": [
    {
     "output_type": "stream",
     "name": "stdout",
     "text": [
      "Solving the following cube:\n",
      "      ┌──┬──┐\n",
      "      │ 2│ 2│\n",
      "      ├──┼──┤\n",
      "      │ 2│ 2│\n",
      "┌──┬──┼──┼──┼──┬──┬──┬──┐\n",
      "│ 0│ 3│ 1│ 4│ 3│ 0│ 4│ 1│\n",
      "├──┼──┼──┼──┼──┼──┼──┼──┤\n",
      "│ 3│ 3│ 1│ 1│ 0│ 0│ 4│ 4│\n",
      "└──┴──┼──┼──┼──┴──┴──┴──┘\n",
      "      │ 5│ 5│\n",
      "      ├──┼──┤\n",
      "      │ 5│ 5│\n",
      "      └──┴──┘\n",
      "Finding CO candidates\n",
      "Searching through 600 candidates\n"
     ]
    },
    {
     "output_type": "execute_result",
     "data": {
      "text/plain": [
       "['U', 'R2', 'U2', 'F2', 'U', 'F2', 'U2', 'R2', 'U', 'F2', 'U2', 'R2']"
      ]
     },
     "metadata": {},
     "execution_count": 78
    }
   ],
   "source": [
    "solve_222_multiphase3(scramble4)"
   ]
  },
  {
   "cell_type": "code",
   "execution_count": 79,
   "metadata": {},
   "outputs": [
    {
     "output_type": "stream",
     "name": "stdout",
     "text": [
      "Solving the following cube:\n",
      "      ┌──┬──┐\n",
      "      │ 2│ 3│\n",
      "      ├──┼──┤\n",
      "      │ 1│ 0│\n",
      "┌──┬──┼──┼──┼──┬──┬──┬──┐\n",
      "│ 1│ 3│ 5│ 4│ 2│ 2│ 4│ 3│\n",
      "├──┼──┼──┼──┼──┼──┼──┼──┤\n",
      "│ 4│ 2│ 0│ 0│ 4│ 1│ 0│ 5│\n",
      "└──┴──┼──┼──┼──┴──┴──┴──┘\n",
      "      │ 1│ 5│\n",
      "      ├──┼──┤\n",
      "      │ 3│ 5│\n",
      "      └──┴──┘\n",
      "Finding CO candidates\n",
      "Searching through 10 candidates\n"
     ]
    },
    {
     "output_type": "execute_result",
     "data": {
      "text/plain": [
       "[\"U'\", 'F', 'R', 'F2', 'R', 'U', 'R2', 'U', 'F2', 'R2', 'U']"
      ]
     },
     "metadata": {},
     "execution_count": 79
    }
   ],
   "source": [
    "solve_222_multiphase3(py222.doAlgStr(py222.initState(), \"R U2 R2 F2 R' F2 R F R\"), debug=False)"
   ]
  },
  {
   "source": [],
   "cell_type": "markdown",
   "metadata": {}
  }
 ],
 "metadata": {
  "colab": {
   "collapsed_sections": [],
   "name": "inverted pendulum.ipynb",
   "provenance": []
  },
  "kernelspec": {
   "name": "python391jvsc74a57bd07cfc35c2170bee0b6acce19e29677178b76260cd158d523330d79af8028fefa2",
   "display_name": "Python 3.9.1 64-bit ('final-U3adIOhd': pipenv)"
  },
  "language_info": {
   "codemirror_mode": {
    "name": "ipython",
    "version": 3
   },
   "file_extension": ".py",
   "mimetype": "text/x-python",
   "name": "python",
   "nbconvert_exporter": "python",
   "pygments_lexer": "ipython3",
   "version": "3.9.1"
  },
  "metadata": {
   "interpreter": {
    "hash": "7cfc35c2170bee0b6acce19e29677178b76260cd158d523330d79af8028fefa2"
   }
  }
 },
 "nbformat": 4,
 "nbformat_minor": 1
}