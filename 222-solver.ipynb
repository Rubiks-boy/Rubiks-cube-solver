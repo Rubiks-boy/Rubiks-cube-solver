{
 "cells": [
  {
   "source": [
    "# Brute force solver for a 2x2 Rubik's cube\n"
   ],
   "cell_type": "markdown",
   "metadata": {}
  },
  {
   "source": [
    "We use MeepMoops's Py222 implementation:"
   ],
   "cell_type": "markdown",
   "metadata": {}
  },
  {
   "cell_type": "code",
   "execution_count": 94,
   "metadata": {},
   "outputs": [],
   "source": [
    "from py222 import py222"
   ]
  },
  {
   "source": [
    "We begin by getting a solved puzzle"
   ],
   "cell_type": "markdown",
   "metadata": {}
  },
  {
   "cell_type": "code",
   "execution_count": 95,
   "metadata": {},
   "outputs": [
    {
     "output_type": "stream",
     "name": "stdout",
     "text": [
      "True\n      ┌──┬──┐\n      │ 0│ 0│\n      ├──┼──┤\n      │ 0│ 0│\n┌──┬──┼──┼──┼──┬──┬──┬──┐\n│ 4│ 4│ 2│ 2│ 1│ 1│ 5│ 5│\n├──┼──┼──┼──┼──┼──┼──┼──┤\n│ 4│ 4│ 2│ 2│ 1│ 1│ 5│ 5│\n└──┴──┼──┼──┼──┴──┴──┴──┘\n      │ 3│ 3│\n      ├──┼──┤\n      │ 3│ 3│\n      └──┴──┘\n"
     ]
    }
   ],
   "source": [
    "s = py222.initState()\n",
    "print(py222.isSolved(s))\n",
    "py222.printCube(s)"
   ]
  },
  {
   "source": [
    "Next, we can apply a sequence of moves to scramble the puzzle:"
   ],
   "cell_type": "markdown",
   "metadata": {}
  },
  {
   "cell_type": "code",
   "execution_count": 165,
   "metadata": {},
   "outputs": [
    {
     "output_type": "stream",
     "name": "stdout",
     "text": [
      "False\n      ┌──┬──┐\n      │ 0│ 1│\n      ├──┼──┤\n      │ 2│ 2│\n┌──┬──┼──┼──┼──┬──┬──┬──┐\n│ 5│ 0│ 4│ 1│ 0│ 2│ 3│ 1│\n├──┼──┼──┼──┼──┼──┼──┼──┤\n│ 3│ 3│ 4│ 5│ 0│ 1│ 5│ 4│\n└──┴──┼──┼──┼──┴──┴──┴──┘\n      │ 2│ 4│\n      ├──┼──┤\n      │ 5│ 3│\n      └──┴──┘\n"
     ]
    }
   ],
   "source": [
    "# scramble = py222.doAlgStr(s, \"x y R U' R'\")\n",
    "scramble = py222.doAlgStr(s, \"x y R U' R' U' F2 U' R\")\n",
    "# scramble = py222.doAlgStr(s, \"x y R U' R' U' F2 U' R U\")\n",
    "# scramble = py222.doAlgStr(s, \"x y R U' R' U' F2 U' R U R' U F2\")\n",
    "print(py222.isSolved(scramble))\n",
    "py222.printCube(scramble)"
   ]
  },
  {
   "source": [
    "Next, we brute force a solution.\n",
    "Note that we can reduce the degrees of freedom to only nine types of moves: \n",
    "* Rotations do not affect state, and can be ignored.\n",
    "* WLOG, moving the left side is equivalent to moving the right side. Thus, instead of 6 turns ((R)ight, (L)eft, (U)p, (D)own, (F)ront, (B)ack), we can use 3 types of turns ((R)ight, (F)ront, and (U)p).\n",
    "* For each of the three types of turns, we can rotate clockwise ninety degrees, rotate counterclockwise (indicated by a prime (')), or rotate 180 degrees (indicated by a '2')\n",
    "\n",
    "Note that God's number for a 2x2 Rubik's cube is 11; i.e., any 2x2 puzzle can be solved within 11 moves. This means, using a naive approach, we can bound our run time as follows:\n",
    "* Our first move has nine possible options\n",
    "* Subsequent moves have six possible options (WLOG, if we turned the right face on the _n-1_-th move, we won't want to turn right again in any form on the _n_-th move).\n",
    "\n",
    "Thus, an upper bound for the number of iterations is O(9*6^10) or 544 million iterations for our naive approach."
   ],
   "cell_type": "markdown",
   "metadata": {}
  },
  {
   "source": [
    "We can represent the possible moves:"
   ],
   "cell_type": "markdown",
   "metadata": {}
  },
  {
   "cell_type": "code",
   "execution_count": 166,
   "metadata": {},
   "outputs": [],
   "source": [
    "valid_moves = [\"R\", \"R'\", \"R2\", \"U\", \"U'\", \"U2\", \"F\", \"F'\", \"F2\"]"
   ]
  },
  {
   "cell_type": "code",
   "execution_count": 182,
   "metadata": {},
   "outputs": [],
   "source": [
    "def solve_222(cube):\n",
    "    cubes_queue = [(cube, [])]\n",
    "\n",
    "    num_moves = 0\n",
    "    i = 0\n",
    "\n",
    "    while(True):\n",
    "        # grab the next cube on the queue\n",
    "        (cube, prev_moves) = cubes_queue.pop(0)\n",
    "\n",
    "        if py222.isSolved(cube):\n",
    "            print(\"Num moves: \" + str(len(prev_moves)) + \"\\t Iter: \" + str(i))\n",
    "            return [valid_moves[move] for move in prev_moves]\n",
    "\n",
    "        if len(prev_moves) > num_moves:\n",
    "            print(\"Num moves: \" + str(len(prev_moves)) + \"\\t Iter: \" + str(i))\n",
    "            num_moves = len(prev_moves)\n",
    "\n",
    "        prev_move = prev_moves[-1] if len(prev_moves) > 0 else 9\n",
    "\n",
    "        # Enforce not repeating the same side again\n",
    "        next_moves = list(range(9))[0:(prev_move//3 * 3)] + list(range(9))[(prev_move//3 * 3 + 3):]\n",
    "\n",
    "        # Perform each possible move, and add each of those cubes to the queue\n",
    "        for move in next_moves:\n",
    "            next_cube = py222.doAlgStr(cube, valid_moves[move])\n",
    "            cubes_queue.append((next_cube, prev_moves + [move]))\n",
    "\n",
    "        i = i+1"
   ]
  },
  {
   "source": [
    "This appears very slow, so we can try a different method of hashing the cubes we've already tried.\n",
    "\n",
    "(Unfortunately, this approach is even slower!... likely due to the str(cube) operations.)"
   ],
   "cell_type": "markdown",
   "metadata": {}
  },
  {
   "cell_type": "code",
   "execution_count": 183,
   "metadata": {},
   "outputs": [],
   "source": [
    "def solve_222_bad(cube):\n",
    "    cubes_already_tried = set([str(cube)])\n",
    "    cubes_queue = [(cube, [])]\n",
    "\n",
    "    num_moves = 0\n",
    "\n",
    "    while(True):\n",
    "        # grab the next cube on the queue\n",
    "        (cube, prev_moves) = cubes_queue.pop(0)\n",
    "\n",
    "        if py222.isSolved(cube):\n",
    "            return prev_moves\n",
    "\n",
    "        if len(prev_moves) > num_moves:\n",
    "            print(\"Num moves: \" + str(len(prev_moves)))\n",
    "            num_moves = len(prev_moves)\n",
    "\n",
    "        # Perform each possible move, and add each of those cubes to the queue\n",
    "        for move in valid_moves:\n",
    "            next_cube = py222.doAlgStr(cube, move)\n",
    "            if str(next_cube) not in cubes_already_tried:\n",
    "                cubes_queue.append((next_cube, prev_moves + [move]))"
   ]
  },
  {
   "cell_type": "code",
   "execution_count": 184,
   "metadata": {},
   "outputs": [
    {
     "output_type": "stream",
     "name": "stdout",
     "text": [
      "Num moves: 1\t Iter: 1\n",
      "Num moves: 2\t Iter: 10\n",
      "Num moves: 3\t Iter: 64\n",
      "Num moves: 4\t Iter: 388\n",
      "Num moves: 5\t Iter: 2332\n",
      "Num moves: 6\t Iter: 13996\n",
      "Num moves: 7\t Iter: 83980\n",
      "Num moves: 7\t Iter: 137765\n"
     ]
    },
    {
     "output_type": "execute_result",
     "data": {
      "text/plain": [
       "[\"R'\", 'U', 'F2', 'U', 'R', 'U', \"R'\"]"
      ]
     },
     "metadata": {},
     "execution_count": 184
    }
   ],
   "source": [
    "solve_222(scramble)"
   ]
  },
  {
   "source": [
    "We now have a naive way to brute force 2x2 solutions."
   ],
   "cell_type": "markdown",
   "metadata": {}
  },
  {
   "source": [],
   "cell_type": "markdown",
   "metadata": {}
  }
 ],
 "metadata": {
  "colab": {
   "collapsed_sections": [],
   "name": "inverted pendulum.ipynb",
   "provenance": []
  },
  "kernelspec": {
   "name": "python391jvsc74a57bd07cfc35c2170bee0b6acce19e29677178b76260cd158d523330d79af8028fefa2",
   "display_name": "Python 3.9.1 64-bit ('final-U3adIOhd': pipenv)"
  },
  "language_info": {
   "codemirror_mode": {
    "name": "ipython",
    "version": 3
   },
   "file_extension": ".py",
   "mimetype": "text/x-python",
   "name": "python",
   "nbconvert_exporter": "python",
   "pygments_lexer": "ipython3",
   "version": "3.9.1"
  },
  "metadata": {
   "interpreter": {
    "hash": "7cfc35c2170bee0b6acce19e29677178b76260cd158d523330d79af8028fefa2"
   }
  }
 },
 "nbformat": 4,
 "nbformat_minor": 1
}